{
 "cells": [
  {
   "cell_type": "code",
   "execution_count": 2,
   "id": "9ee4553e",
   "metadata": {},
   "outputs": [],
   "source": [
    "import numpy as np\n",
    "import gurobipy as gp"
   ]
  },
  {
   "cell_type": "markdown",
   "id": "714455ef",
   "metadata": {},
   "source": [
    "## Question 1:\n",
    "Max is in a pie eating contest that lasts 1 hour. Each torte that he eats takes 2 minutes to eat. Each apple pie that he eats takes 3 minutes. He receives 4 points for each torte and 5 points for each pie. Find the number of tortes and apple pies Max should eat to get the most points. Solve the problem using the graphical method.\n",
    "\n",
    "Next, let’s see what happens if he would like to stick to his preference of eating at least as many pies as tortes. That is; the number of pies he eats should be greater than or equal to the number of tortes.\n",
    "\n",
    "By how many points does this constraint decrease Max’s total points? (this is the part you will submit to the canvas answer.)"
   ]
  },
  {
   "cell_type": "markdown",
   "id": "9dadbb61",
   "metadata": {},
   "source": [
    "## Solution:\n",
    "Objective Function -> Maximise 4T + 5P\n",
    "Constraints:\n",
    "1. 2T + 3P <= 60\n",
    "2. T>=0, P>=0\n",
    "Scenario 2:\n",
    "Include P-T>=0\n",
    "\n",
    "From the Graphical method:\n",
    "Case 1 : We get optimal value when Max eats 30 Tortes and 0 pies\n",
    "\n",
    "Case 2 : When he needs to eat Pie more than the number of tortes, we get Pie value as 12 and Tortes value as 12"
   ]
  },
  {
   "cell_type": "markdown",
   "id": "a2b2c8c5",
   "metadata": {},
   "source": [
    "## Question 2 : \n",
    "A farmer in Iowa owns 450 acres of land. He is going to plant each acre with wheat or corn. Each acre planted with wheat (corn) yields $2,000 ($3,000) profit, requires three (two) workers, and requires two (four) tons of fertilizer. There are currently 1,000 workers and 1,200 tons of fertilizer available.\n",
    "Formulate and solve this problem using gurobi.\n",
    "\n",
    "Next we want to see What happens to the decision variables and the total profit when the availability of fertilizer varies from 200 tons to 2200 tons in 100-ton increments.\n",
    "\n",
    "At what level of fertilizer does the farmer discontinue producing wheat?  That is, what is the smallest level of available fertilizer that results in no wheat being produced?  Your answer should be one of the 100 ton incremental numbers, like 600 or 1300 or..."
   ]
  },
  {
   "cell_type": "markdown",
   "id": "1f0e43ee",
   "metadata": {},
   "source": [
    "## Solution\n",
    "Objective Function -> Maximise 2000W + 3000C\n",
    "Constraints:\n",
    "W + C <= 450\n",
    "3W + 2C <=1000\n",
    "2W + 4C <=1200"
   ]
  },
  {
   "cell_type": "code",
   "execution_count": 2,
   "id": "e4440fe4",
   "metadata": {},
   "outputs": [],
   "source": [
    "obj = np.array([2000,3000]) # objective vector\n",
    "A = np.zeros((3,2)) # initialize constraint matrix\n",
    "A[0,:] = [3,2] # workers constraint\n",
    "A[1,:] = [2,4] # fertilizer constraint\n",
    "A[2,:] = [1,1]\n",
    "b = np.array([1000,1200,450]) # limits on production, storage, and demand\n",
    "sense = np.array(['<','<','<']) # all constraints are less than or equal constraints"
   ]
  },
  {
   "cell_type": "code",
   "execution_count": 3,
   "id": "b78d75a9",
   "metadata": {},
   "outputs": [
    {
     "name": "stdout",
     "output_type": "stream",
     "text": [
      "Academic license - for non-commercial use only - expires 2022-09-15\n",
      "Using license file /Users/Kaushik Kumaran/gurobi.lic\n"
     ]
    }
   ],
   "source": [
    "ojModel = gp.Model() # initialize an empty model\n",
    "\n",
    "ojModX = ojModel.addMVar(2) # tell the model how many variables there are\n",
    "# must define the variables before adding constraints because variables go into the constraints\n",
    "ojModCon = ojModel.addMConstrs(A, ojModX, sense, b) # add the constraints to the model\n",
    "ojModel.setMObjective(None,obj,0,sense=gp.GRB.MAXIMIZE) # add the objective to the model...we'll talk about the None and the 0\n",
    "\n",
    "ojModel.Params.OutputFlag = 0 # tell gurobi to shut up!!"
   ]
  },
  {
   "cell_type": "code",
   "execution_count": 4,
   "id": "27534f46",
   "metadata": {},
   "outputs": [],
   "source": [
    "ojModel.optimize() "
   ]
  },
  {
   "cell_type": "code",
   "execution_count": 5,
   "id": "2f9beedc",
   "metadata": {},
   "outputs": [
    {
     "data": {
      "text/plain": [
       "1000000.0"
      ]
     },
     "execution_count": 5,
     "metadata": {},
     "output_type": "execute_result"
    }
   ],
   "source": [
    "ojModel.objVal"
   ]
  },
  {
   "cell_type": "code",
   "execution_count": 6,
   "id": "53d3b4d8",
   "metadata": {},
   "outputs": [
    {
     "data": {
      "text/plain": [
       "array([200., 200.])"
      ]
     },
     "execution_count": 6,
     "metadata": {},
     "output_type": "execute_result"
    }
   ],
   "source": [
    "ojModX.x"
   ]
  },
  {
   "cell_type": "code",
   "execution_count": 7,
   "id": "ba07ac40",
   "metadata": {},
   "outputs": [
    {
     "name": "stdout",
     "output_type": "stream",
     "text": [
      "200\n",
      "200000.0\n",
      "[100.   0.]\n",
      "300\n",
      "300000.0\n",
      "[150.   0.]\n",
      "400\n",
      "400000.0\n",
      "[200.   0.]\n",
      "500\n",
      "500000.0\n",
      "[250.   0.]\n",
      "600\n",
      "600000.0\n",
      "[300.   0.]\n",
      "700\n",
      "687500.0\n",
      "[325.   12.5]\n",
      "800\n",
      "750000.0\n",
      "[300.  50.]\n",
      "900\n",
      "812500.0\n",
      "[275.   87.5]\n",
      "1000\n",
      "875000.0\n",
      "[250. 125.]\n",
      "1100\n",
      "937500.0\n",
      "[225.  162.5]\n",
      "1200\n",
      "1000000.0\n",
      "[200. 200.]\n",
      "1300\n",
      "1062500.0\n",
      "[175.  237.5]\n",
      "1400\n",
      "1125000.0\n",
      "[150. 275.]\n",
      "1500\n",
      "1187500.0\n",
      "[125.  312.5]\n",
      "1600\n",
      "1250000.0\n",
      "[100. 350.]\n",
      "1700\n",
      "1300000.0\n",
      "[ 50. 400.]\n",
      "1800\n",
      "1350000.0\n",
      "[  0. 450.]\n",
      "1900\n",
      "1350000.0\n",
      "[  0. 450.]\n",
      "2000\n",
      "1350000.0\n",
      "[  0. 450.]\n"
     ]
    }
   ],
   "source": [
    "# Scenario 2 : Vary the amount of fertilizer from 200 to 2000\n",
    "for i in range(200,2100,100):\n",
    "    b = np.array([1000,i,450]) \n",
    "    ojModel = gp.Model() # initialize an empty model\n",
    "    ojModX = ojModel.addMVar(2) # tell the model how many variables there are\n",
    "    ojModCon = ojModel.addMConstrs(A, ojModX, sense, b) # add the constraints to the model\n",
    "    ojModel.setMObjective(None,obj,0,sense=gp.GRB.MAXIMIZE) \n",
    "    ojModel.Params.OutputFlag = 0\n",
    "    ojModel.optimize() \n",
    "    print(i)\n",
    "    print(ojModel.objVal)\n",
    "    print(ojModX.x)"
   ]
  },
  {
   "cell_type": "markdown",
   "id": "4ed5c356",
   "metadata": {},
   "source": [
    "Thus the value of the fertilizer needs to be 1800 so that no wheat is produced"
   ]
  },
  {
   "cell_type": "markdown",
   "id": "e17c9159",
   "metadata": {},
   "source": [
    "## Question 3 :\n",
    "Star Oil Company is considering five different investment opportunities. The table below gives the required cash outflows and net present values in millions of dollars.\n",
    "Star Oil has 40 million available for investment now (time 0); it estimates that one year from now (time 1) $20 million will be available for investment. Star Oil may purchase any fraction of each investment, but no more than 100% of each opportunity. In this case, the cash outflows and NPV are adjusted accordingly.\n",
    "For example, if Star Oil purchases one-fifth of investment 3, then a cash outflow of 1/5 × 5 = 1 million dollars would be required at time 0, and a cash outflow of 1/5 × 5 = 1 million would be required at time 1. The one-fifth share of investment three would yield an NPV of 1/5 ∗ 16 = 3.2 million dollars. Star Oil wants to maximize the NPV that can be obtained by investing in investments 1-5. Formulate an LP that will help achieve this goal. Assume that any funds leftover at time 0 cannot be used at time 1.\n",
    "What percentage of opportunity 3 should be Star Oil invest in?  Answer in decimals, so if your answer is 54%, you should input 0.54.  Round 2 to decimal places"
   ]
  },
  {
   "cell_type": "markdown",
   "id": "cf162ccb",
   "metadata": {},
   "source": [
    "## Solution : \n",
    "Decision Variables - a,b,c,d,e\n",
    "Objective Function -> Maximise 13a + 16b + 16c + 14d + 39e\n",
    "Subject to constrains:\n",
    "11a + 53b + 5c + 5d + 29e <= 40\n",
    "3a + 6b + 5c + d + 34e <= 20\n",
    "a<=1\n",
    "b<=1\n",
    "c<=1\n",
    "d<=1\n",
    "e<=1"
   ]
  },
  {
   "cell_type": "code",
   "execution_count": 9,
   "id": "738fc611",
   "metadata": {},
   "outputs": [
    {
     "name": "stdout",
     "output_type": "stream",
     "text": [
      "57.449017199017206\n",
      "[1.         0.20085995 1.         1.         0.28808354]\n"
     ]
    }
   ],
   "source": [
    "obj = np.array([13,16,16,14,39]) \n",
    "A = np.zeros((7,5)) \n",
    "A[0,:] = [11,53,5,5,29] \n",
    "A[1,:] = [3,6,5,1,34]\n",
    "A[2,:] = [1,0,0,0,0]\n",
    "A[3,:] = [0,1,0,0,0]\n",
    "A[4,:] = [0,0,1,0,0]\n",
    "A[5,:] = [0,0,0,1,0]\n",
    "A[6,:] = [0,0,0,0,1]\n",
    "b = np.array([40,20,1,1,1,1,1]) \n",
    "sense = np.array(['<','<','<','<','<','<','<'])\n",
    "\n",
    "ojModel = gp.Model()\n",
    "\n",
    "ojModX = ojModel.addMVar(5) \n",
    "\n",
    "ojModCon = ojModel.addMConstrs(A, ojModX, sense, b) \n",
    "ojModel.setMObjective(None,obj,0,sense=gp.GRB.MAXIMIZE)\n",
    "\n",
    "ojModel.Params.OutputFlag = 0\n",
    "\n",
    "ojModel.optimize() \n",
    "print(ojModel.objVal)\n",
    "print(ojModX.x)"
   ]
  },
  {
   "cell_type": "markdown",
   "id": "cfe6feb7",
   "metadata": {},
   "source": [
    "## Question 4 : \n",
    "The goal of this problem is to select a set of foods that will satisfy a set of daily nutritional requirement at minimum cost. Suppose there are three foods available, corn, milk, and bread. There are restrictions on the number of calories (between 2000 and 2250) and the amount of Vitamin A (between 5000 and 50,000) that can be eaten. The table below shows, for each food, the cost per serving, the amount of Vitamin A per serving, and the number of calories per serving. Also, the maximum number of servings for each food is 10.\n",
    "\n",
    "How many servings of corn should you eat?  Round to 2 decimal places."
   ]
  },
  {
   "cell_type": "code",
   "execution_count": 3,
   "id": "0a0f797b",
   "metadata": {},
   "outputs": [
    {
     "name": "stdout",
     "output_type": "stream",
     "text": [
      "Academic license - for non-commercial use only - expires 2022-09-15\n",
      "Using license file /Users/Kaushik Kumaran/gurobi.lic\n",
      "Optimal objective: 3.15\n",
      "[ 1.94444444 10.         10.        ]\n"
     ]
    }
   ],
   "source": [
    "from gurobipy import GRB\n",
    "obj = np.array([0.18,0.23,0.05])\n",
    "A = np.zeros((7,3))\n",
    "A[0,:] = [72,121,65]\n",
    "A[1,:] = [72,121,65]\n",
    "A[2,:] = [107,500,0]\n",
    "A[3,:] = [107,500,0]\n",
    "A[4,:] = [1,0,0]\n",
    "A[5,:] = [0,1,0]\n",
    "A[6,:] = [0,0,1]\n",
    "b = np.array([2000,2250,5000,50000,10,10,10]) \n",
    "sense = np.array(['>','<','>','<','<','<','<']) \n",
    "\n",
    "ojModel = gp.Model()\n",
    "\n",
    "ojModX = ojModel.addMVar(3) \n",
    "ojModCon = ojModel.addMConstrs(A, ojModX, sense, b) \n",
    "ojModel.setMObjective(None,obj,0,sense=gp.GRB.MINIMIZE)\n",
    "\n",
    "ojModel.Params.OutputFlag = 0\n",
    "ojModel.optimize() \n",
    "if ojModel.status == GRB.OPTIMAL: \n",
    "    print('Optimal objective: %g' % ojModel.objVal)\n",
    "    print(ojModX.x)\n",
    "elif ojModel.status == GRB.INF_OR_UNBD:\n",
    "    print('Model is infeasible or unbounded')\n",
    "elif ojModel.status == GRB.INFEASIBLE: \n",
    "        print('Model is infeasible')  \n",
    "elif model.status == GRB.UNBOUNDED:    \n",
    "    print('Model is unbounded')   \n",
    "else:  \n",
    "    print('Optimization ended with status %d' % ojModel.status) \n"
   ]
  },
  {
   "cell_type": "markdown",
   "id": "72a62b4e",
   "metadata": {},
   "source": [
    "## Question 5 \n",
    "Paper and wood products companies need to define cutting schedules that will maximize the total wood yield of their forests over some planning period. Suppose that a firm with control of 2 forest units wants to identify the best cutting schedule over a planning horizon of 3 years. Forest unit 1 has a total acreage of 2 and unit 2 has a total of 3 acres. The studies that the company has undertaken predict that each acre in unit 1(2) will have 1, 1.3, 1.4 (1, 1.2, 1.6) tons of woods per acre available for harvesting in year 1, 2, 3 respectively. Based on its prediction of economic conditions, the company believes that it should harvest at least 1.2, 1.5, 2 tons of wood in year 1, 2, 3 separately. Due to the availability of equipment and personnel, the company can harvest at most 2, 2, 3 tons of wood in year 1, 2, 3. Find the company’s best cutting strategy that maximizes the total weights of wood. Here discounting of the time value should not be considered.  If some fraction of a forest unit is cut down in year 1, that part of the forest cannot be cut again for the remaining 2 years.  Similarly if some fraction of the forest unit is cut down in year 2 it cannot be cut in year 3.\n",
    "In year 3, how many acres of forest unit 2 should be cut down?  Round to 2 decimal places."
   ]
  },
  {
   "cell_type": "code",
   "execution_count": 3,
   "id": "426988fa",
   "metadata": {},
   "outputs": [
    {
     "name": "stdout",
     "output_type": "stream",
     "text": [
      "Academic license - for non-commercial use only - expires 2022-09-15\n",
      "Using license file /Users/Kaushik Kumaran/gurobi.lic\n",
      "In year 3, acres of unit 2 to be cut down:  1.88\n"
     ]
    }
   ],
   "source": [
    "obj = np.array([1,1.3,1.4,1,1.2,1.6]) # objective vector\n",
    "A = np.zeros((8,6)) # initialize constraint matrix\n",
    "A[0,:] = [1,0,0,1,0,0] # year 1 maximum wood constraint\n",
    "A[1,:] = [1,0,0,1,0,0] # year 1 minimum wood constraint\n",
    "A[2,:] = [0,1.3,0,0,1.2,0] # year 2 maximum wood constraint\n",
    "A[3,:] = [0,1.3,0,0,1.2,0] # year 2 minimum wood constraint\n",
    "A[4,:] = [0,0,1.4,0,0,1.6] # year 3 maximum wood constraint\n",
    "A[5,:] = [0,0,1.4,0,0,1.6] # year 3 minimum wood constraint\n",
    "A[6,:] = [1,1,1,0,0,0] # forest unit 1 constraint\n",
    "A[7,:] = [0,0,0,1,1,1] # forest unit 2 constraint\n",
    "b = np.array([2,1.2,2,1.5,3,2,2,3]) # limits on constraints\n",
    "sense = np.array(['<','>','<','>','<','>','<','<'])\n",
    "\n",
    "\n",
    "fmodel = gp.Model()\n",
    "fmModX = fmodel.addMVar(6) \n",
    "fmModCon = fmodel.addMConstrs(A, fmModX, sense, b) \n",
    "fmodel.setMObjective(None,obj,0,sense=gp.GRB.MAXIMIZE) \n",
    "fmodel.Params.OutputFlag = 0 \n",
    "fmodel.optimize()\n",
    "\n",
    "\n",
    "\n",
    "\n",
    "print(\"In year 3, acres of unit 2 to be cut down: \",round(fmModX.x[5],2))"
   ]
  }
 ],
 "metadata": {
  "kernelspec": {
   "display_name": "Python 3",
   "language": "python",
   "name": "python3"
  },
  "language_info": {
   "codemirror_mode": {
    "name": "ipython",
    "version": 3
   },
   "file_extension": ".py",
   "mimetype": "text/x-python",
   "name": "python",
   "nbconvert_exporter": "python",
   "pygments_lexer": "ipython3",
   "version": "3.9.5"
  }
 },
 "nbformat": 4,
 "nbformat_minor": 5
}
