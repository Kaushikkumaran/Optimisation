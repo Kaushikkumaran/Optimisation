{
 "cells": [
  {
   "cell_type": "markdown",
   "id": "a32af355",
   "metadata": {},
   "source": [
    "# Optimization I --- Project 1 : Linear Programming"
   ]
  },
  {
   "cell_type": "markdown",
   "id": "1e7e89a8",
   "metadata": {},
   "source": [
    "### Completed by: Rahul Singla, Aatheep Gurubaran, Kaushik Kumaran, Rohan Garg"
   ]
  },
  {
   "cell_type": "markdown",
   "id": "fa21cf4e",
   "metadata": {},
   "source": [
    "### Importing all the Pandas Packages we will be using for this project : numpy, gurobipy, and pandas"
   ]
  },
  {
   "cell_type": "code",
   "execution_count": 1,
   "id": "0c7d0923",
   "metadata": {},
   "outputs": [],
   "source": [
    "import numpy as np\n",
    "import gurobipy as gp\n",
    "import pandas as pd\n",
    "from matplotlib import pyplot as plt\n",
    "np.set_printoptions(precision=3)"
   ]
  },
  {
   "cell_type": "markdown",
   "id": "37acbd59",
   "metadata": {},
   "source": [
    "### Opening the data set and storing it in a data frame"
   ]
  },
  {
   "cell_type": "code",
   "execution_count": 2,
   "id": "ec304938",
   "metadata": {},
   "outputs": [
    {
     "data": {
      "text/html": [
       "<div>\n",
       "<style scoped>\n",
       "    .dataframe tbody tr th:only-of-type {\n",
       "        vertical-align: middle;\n",
       "    }\n",
       "\n",
       "    .dataframe tbody tr th {\n",
       "        vertical-align: top;\n",
       "    }\n",
       "\n",
       "    .dataframe thead th {\n",
       "        text-align: right;\n",
       "    }\n",
       "</style>\n",
       "<table border=\"1\" class=\"dataframe\">\n",
       "  <thead>\n",
       "    <tr style=\"text-align: right;\">\n",
       "      <th></th>\n",
       "      <th>Platform</th>\n",
       "      <th>Print</th>\n",
       "      <th>TV</th>\n",
       "      <th>SEO</th>\n",
       "      <th>AdWords</th>\n",
       "      <th>Facebook</th>\n",
       "      <th>LinkedIn</th>\n",
       "      <th>Instagram</th>\n",
       "      <th>Snapchat</th>\n",
       "      <th>Twitter</th>\n",
       "      <th>Email</th>\n",
       "    </tr>\n",
       "  </thead>\n",
       "  <tbody>\n",
       "    <tr>\n",
       "      <th>0</th>\n",
       "      <td>ROI</td>\n",
       "      <td>0.031</td>\n",
       "      <td>0.049</td>\n",
       "      <td>0.024</td>\n",
       "      <td>0.039</td>\n",
       "      <td>0.016</td>\n",
       "      <td>0.024</td>\n",
       "      <td>0.046</td>\n",
       "      <td>0.026</td>\n",
       "      <td>0.033</td>\n",
       "      <td>0.044</td>\n",
       "    </tr>\n",
       "    <tr>\n",
       "      <th>1</th>\n",
       "      <td>Second Firms ROI Estimate</td>\n",
       "      <td>0.049</td>\n",
       "      <td>0.023</td>\n",
       "      <td>0.024</td>\n",
       "      <td>0.039</td>\n",
       "      <td>0.044</td>\n",
       "      <td>0.046</td>\n",
       "      <td>0.026</td>\n",
       "      <td>0.019</td>\n",
       "      <td>0.037</td>\n",
       "      <td>0.026</td>\n",
       "    </tr>\n",
       "  </tbody>\n",
       "</table>\n",
       "</div>"
      ],
      "text/plain": [
       "                    Platform  Print     TV    SEO  AdWords  Facebook  \\\n",
       "0                        ROI  0.031  0.049  0.024    0.039     0.016   \n",
       "1  Second Firms ROI Estimate  0.049  0.023  0.024    0.039     0.044   \n",
       "\n",
       "   LinkedIn  Instagram  Snapchat  Twitter  Email  \n",
       "0     0.024      0.046     0.026    0.033  0.044  \n",
       "1     0.046      0.026     0.019    0.037  0.026  "
      ]
     },
     "execution_count": 2,
     "metadata": {},
     "output_type": "execute_result"
    }
   ],
   "source": [
    "df = pd.read_csv('ROI_data.csv')\n",
    "df"
   ]
  },
  {
   "cell_type": "markdown",
   "id": "a98911e9",
   "metadata": {},
   "source": [
    "## Defining what the constraints are :"
   ]
  },
  {
   "cell_type": "markdown",
   "id": "9f2ee84e",
   "metadata": {},
   "source": [
    "### 1.) Our total marketing budget cannot exceed $10M\n",
    "\n",
    "#### $ x_1 + x_2 + x_3 + x_4 + x_5 + x_6 + x_7 + x_8 + x_9 + x_{10} < 10 $ <br>\n",
    "\n",
    "where:\n",
    "\n",
    "$x_1$ = Print\n",
    "\n",
    "$x_2$ = TV\n",
    "\n",
    "$x_3$ = SEO\n",
    "\n",
    "$x_4$ = AdWords\n",
    "\n",
    "$x_5$ = Facebook\n",
    "\n",
    "$x_6$ = LinkedIn\n",
    "\n",
    "$x_7$ = Instagram\n",
    "\n",
    "$x_8$ = Snapchat\n",
    "\n",
    "$x_9$ = Twitter\n",
    "\n",
    "$x_{10}$ = Email"
   ]
  },
  {
   "cell_type": "markdown",
   "id": "a808fe7d",
   "metadata": {},
   "source": [
    "### 2.) The amount invested in print ($x_1$) and TV ($x_2$) should not be more than the amount spent on Facebook ($x_5$) and Email ($x_9$)\n",
    "\n",
    "$ x_1 + x_2 < x_5 + x_9 $<br>"
   ]
  },
  {
   "cell_type": "markdown",
   "id": "f6e363bf",
   "metadata": {},
   "source": [
    "### 3.) The total amount used in social media (Facebook ($x_5$), LinkedIn ($x_6$), Instagram ($x_7$), Snapchat ($x_8$), and Twitter ($x_9$) should be at least twice of SEO ($x_3$), and AdWords ($x_4$)\n",
    "$ x_5 + x_6 + x_7 + x_8 + x_9 > 2 (x_3 + x_4) $<br>"
   ]
  },
  {
   "cell_type": "markdown",
   "id": "10c14031",
   "metadata": {},
   "source": [
    "### 4.) For each platform, the amount invested should be no more than $3M\n",
    "\n",
    "$ x_1 < 3 $<br>\n",
    "$ x_2 < 3 $<br>\n",
    "$ x_3 < 3 $<br>\n",
    "$ x_4 < 3 $<br>\n",
    "$ x_5 < 3 $<br>\n",
    "$ x_6 < 3 $<br>\n",
    "$ x_7 < 3 $<br>\n",
    "$ x_8 < 3 $<br>\n",
    "$ x_9 < 3 $<br>\n",
    "$ x_{10} < 3 $<br>\n"
   ]
  },
  {
   "cell_type": "markdown",
   "id": "7bff89ea",
   "metadata": {},
   "source": [
    "***"
   ]
  },
  {
   "cell_type": "markdown",
   "id": "e709463e",
   "metadata": {},
   "source": [
    "### Restructuring the constraints, we get: \n",
    "\n",
    "### 1.)\n",
    "$ x_1 + x_2 + x_3 + x_4 + x_5 + x_6 + x_7 + x_8 + x_9 + x_{10} < 10 $\n",
    "\n",
    "***\n",
    "\n",
    "### 2.)\n",
    "$ x_1 + x_2 - x_5 - x_9 < 0 $\n",
    "\n",
    "***\n",
    "\n",
    "### 3.)\n",
    "$ 2x_3 + 2x_4 - x_5 - x_6 - x_7 - x_8 - x_9 < 0  $\n",
    "\n",
    "***\n",
    "\n",
    "### 4.)\n",
    "$ x_1 < 3 $<br>\n",
    "$ x_2 < 3 $<br>\n",
    "$ x_3 < 3 $<br>\n",
    "$ x_4 < 3 $<br>\n",
    "$ x_5 < 3 $<br>\n",
    "$ x_6 < 3 $<br>\n",
    "$ x_7 < 3 $<br>\n",
    "$ x_8 < 3 $<br>\n",
    "$ x_9 < 3 $<br>\n",
    "$ x_{10} < 3 $<br>"
   ]
  },
  {
   "cell_type": "markdown",
   "id": "70913d85",
   "metadata": {},
   "source": [
    "---"
   ]
  },
  {
   "cell_type": "markdown",
   "id": "11804f3d",
   "metadata": {},
   "source": [
    "### Objective function we are trying to maximize :\n",
    "$ 0.031x_1 + 0.049x_2 + 0.024x_3 + 0.039x_4 + 0.016x_5 + 0.024x_6 + 0.046x_7 + 0.026x_8 + 0.033x_9 + 0.044x_{10} $"
   ]
  },
  {
   "cell_type": "code",
   "execution_count": 3,
   "id": "b0a71c18",
   "metadata": {},
   "outputs": [
    {
     "data": {
      "text/plain": [
       "Print        0.031\n",
       "TV           0.049\n",
       "SEO          0.024\n",
       "AdWords      0.039\n",
       "Facebook     0.016\n",
       "LinkedIn     0.024\n",
       "Instagram    0.046\n",
       "Snapchat     0.026\n",
       "Twitter      0.033\n",
       "Email        0.044\n",
       "Name: 0, dtype: object"
      ]
     },
     "execution_count": 3,
     "metadata": {},
     "output_type": "execute_result"
    }
   ],
   "source": [
    "df.iloc[0, 1:]"
   ]
  },
  {
   "cell_type": "markdown",
   "id": "8cbaa360",
   "metadata": {},
   "source": [
    "# Question #3.) -- First ROI data\n",
    "\n",
    "### Formulating the marketing budget allocation problem as a linear program"
   ]
  },
  {
   "cell_type": "code",
   "execution_count": 4,
   "id": "605b92ea",
   "metadata": {},
   "outputs": [
    {
     "name": "stdout",
     "output_type": "stream",
     "text": [
      "The final initial constraint matrix is: \n",
      "\n",
      " [[ 1.  1.  1.  1.  1.  1.  1.  1.  1.  1.]\n",
      " [ 1.  1.  0.  0. -1.  0.  0.  0.  0. -1.]\n",
      " [ 0.  0.  2.  2. -1. -1. -1. -1. -1.  0.]\n",
      " [ 1.  0.  0.  0.  0.  0.  0.  0.  0.  0.]\n",
      " [ 0.  1.  0.  0.  0.  0.  0.  0.  0.  0.]\n",
      " [ 0.  0.  1.  0.  0.  0.  0.  0.  0.  0.]\n",
      " [ 0.  0.  0.  1.  0.  0.  0.  0.  0.  0.]\n",
      " [ 0.  0.  0.  0.  1.  0.  0.  0.  0.  0.]\n",
      " [ 0.  0.  0.  0.  0.  1.  0.  0.  0.  0.]\n",
      " [ 0.  0.  0.  0.  0.  0.  1.  0.  0.  0.]\n",
      " [ 0.  0.  0.  0.  0.  0.  0.  1.  0.  0.]\n",
      " [ 0.  0.  0.  0.  0.  0.  0.  0.  1.  0.]\n",
      " [ 0.  0.  0.  0.  0.  0.  0.  0.  0.  1.]]\n",
      "\n",
      "--------------------------------------------\n",
      "\n",
      "The vector defining the limits for all the constraints is: \n",
      "\n",
      " [10  0  0  3  3  3  3  3  3  3  3  3  3]\n",
      "\n",
      "--------------------------------------------\n",
      "\n",
      "The vector defining the direction for all the constraints is: \n",
      "\n",
      " ['<' '<' '<' '<' '<' '<' '<' '<' '<' '<' '<' '<' '<']\n",
      "\n",
      "--------------------------------------------\n"
     ]
    }
   ],
   "source": [
    "obj = np.array(df.iloc[0, 1:])                    # objective vector defined above\n",
    "\n",
    "# initializing the constraint matrix  \n",
    "A = np.zeros((13, 10))                            # we have 13 equations and 20 variables\n",
    "\n",
    "A[0,:] = 1                                        # Constraint #1\n",
    "A[1,:] = [1, 1, 0, 0, -1, 0, 0, 0, 0, -1]         # Constraint #2\n",
    "A[2, 2:9] = [2, 2, -1, -1, -1, -1, -1]            # Constraint #3\n",
    "A[3:13,:] = np.identity(10)                       # Constraint #4\n",
    "\n",
    "b = np.array([10, 0, 0] + [3] * 10)               # Defining the limits for all 4 constraints\n",
    "sense = np.array(['<'] * 13)                      # Defining the direction for all the constraints\n",
    "\n",
    "print(\"The final initial constraint matrix is: \\n\\n\", A)\n",
    "print(\"\\n--------------------------------------------\")\n",
    "print(\"\\nThe vector defining the limits for all the constraints is: \\n\\n\", b)\n",
    "print(\"\\n--------------------------------------------\")\n",
    "print(\"\\nThe vector defining the direction for all the constraints is: \\n\\n\", sense)\n",
    "print(\"\\n--------------------------------------------\")"
   ]
  },
  {
   "cell_type": "markdown",
   "id": "1b74031d",
   "metadata": {},
   "source": [
    "### Using gurobi to find the optimal budget allocation"
   ]
  },
  {
   "cell_type": "code",
   "execution_count": 5,
   "id": "2b8259fd",
   "metadata": {},
   "outputs": [
    {
     "name": "stdout",
     "output_type": "stream",
     "text": [
      "Academic license - for non-commercial use only - expires 2022-09-15\n",
      "Using license file C:\\Users\\rohan\\gurobi.lic\n"
     ]
    }
   ],
   "source": [
    "ojModel = gp.Model()\n",
    "\n",
    "ojModX = ojModel.addMVar(len(obj))\n",
    "\n",
    "ojModCon = ojModel.addMConstrs(A, ojModX, sense, b)\n",
    "ojModel.setMObjective(None, obj, 0, sense=gp.GRB.MAXIMIZE)\n",
    "\n",
    "ojModel.Params.OutputFlag = 0\n",
    "ojModel.optimize()                                     # solve the LP"
   ]
  },
  {
   "cell_type": "code",
   "execution_count": 6,
   "id": "2405b219",
   "metadata": {},
   "outputs": [
    {
     "name": "stdout",
     "output_type": "stream",
     "text": [
      "0.456 Million\n"
     ]
    }
   ],
   "source": [
    "objective_value1 = ojModel.objVal\n",
    "print(round(objective_value1, 3),\"Million\")"
   ]
  },
  {
   "cell_type": "markdown",
   "id": "979323c0",
   "metadata": {},
   "source": [
    "### The max profit realizeable with the given constraints and First ROI    \n",
    "### = $0.456 Million"
   ]
  },
  {
   "cell_type": "markdown",
   "id": "2796e55a",
   "metadata": {},
   "source": [
    "----"
   ]
  },
  {
   "cell_type": "markdown",
   "id": "a3d6d629",
   "metadata": {},
   "source": [
    "### The breakdown for each marketing medium for Investment 1 ( First ROI ) is as follows :"
   ]
  },
  {
   "cell_type": "code",
   "execution_count": 7,
   "id": "83e0b2ea",
   "metadata": {
    "scrolled": true
   },
   "outputs": [
    {
     "name": "stdout",
     "output_type": "stream",
     "text": [
      "Print        0.0\n",
      "TV           3.0\n",
      "SEO          0.0\n",
      "AdWords      1.0\n",
      "Facebook     0.0\n",
      "LinkedIn     0.0\n",
      "Instagram    3.0\n",
      "Snapchat     0.0\n",
      "Twitter      0.0\n",
      "Email        3.0\n",
      "dtype: float64\n"
     ]
    }
   ],
   "source": [
    "investment1 = ojModX.x\n",
    "print(pd.Series(investment1, index = df.iloc[0, 1:].index))"
   ]
  },
  {
   "cell_type": "code",
   "execution_count": 8,
   "id": "9ba7722b",
   "metadata": {},
   "outputs": [
    {
     "data": {
      "image/png": "[encoded data removed]",
      "text/plain": [
       "<Figure size 432x288 with 1 Axes>"
      ]
     },
     "metadata": {
      "needs_background": "light"
     },
     "output_type": "display_data"
    }
   ],
   "source": [
    "pd.Series(investment1, index = df.iloc[0, 1:].index).plot(kind = 'bar')\n",
    "plt.xlabel(\"Marketing Medium\")\n",
    "plt.ylabel(\"Investment\")\n",
    "plt.title(\"Marketing Medium Breakdown for Investment 1\")\n",
    "plt.show()"
   ]
  },
  {
   "cell_type": "markdown",
   "id": "3dc566aa",
   "metadata": {},
   "source": [
    "---"
   ]
  },
  {
   "cell_type": "markdown",
   "id": "53a43cc8",
   "metadata": {},
   "source": [
    "# Question #4.) -- Second ROI Data\n",
    "\n",
    "\n",
    "### Objective function we are trying to maximize has changed to :\n",
    "\n",
    "$ 0.049x_1 + 0.023x_2 + 0.024x_3 + 0.039x_4 + 0.044x_5 + 0.046x_6 + 0.026x_7 + 0.019x_8 + 0.037x_9 + 0.026x_{10} $"
   ]
  },
  {
   "cell_type": "code",
   "execution_count": 9,
   "id": "2874bfde",
   "metadata": {},
   "outputs": [
    {
     "data": {
      "text/plain": [
       "Print        0.049\n",
       "TV           0.023\n",
       "SEO          0.024\n",
       "AdWords      0.039\n",
       "Facebook     0.044\n",
       "LinkedIn     0.046\n",
       "Instagram    0.026\n",
       "Snapchat     0.019\n",
       "Twitter      0.037\n",
       "Email        0.026\n",
       "Name: 1, dtype: object"
      ]
     },
     "execution_count": 9,
     "metadata": {},
     "output_type": "execute_result"
    }
   ],
   "source": [
    "df.iloc[1, 1:]"
   ]
  },
  {
   "cell_type": "code",
   "execution_count": 10,
   "id": "ecc00fcc",
   "metadata": {},
   "outputs": [],
   "source": [
    "# only objective was updated\n",
    "obj = np.array(df.iloc[1, 1:])"
   ]
  },
  {
   "cell_type": "markdown",
   "id": "23ada79a",
   "metadata": {},
   "source": [
    "### Note that ALL the constraints have stayed exactly the same"
   ]
  },
  {
   "cell_type": "markdown",
   "id": "00375b27",
   "metadata": {},
   "source": [
    "### Using gurobi to find the optimal budget allocation"
   ]
  },
  {
   "cell_type": "code",
   "execution_count": 11,
   "id": "45bb4294",
   "metadata": {},
   "outputs": [],
   "source": [
    "ojModel = gp.Model()\n",
    "\n",
    "ojModX = ojModel.addMVar(len(obj))\n",
    "\n",
    "ojModCon = ojModel.addMConstrs(A, ojModX, sense, b)\n",
    "ojModel.setMObjective(None,obj,0,sense=gp.GRB.MAXIMIZE)\n",
    "\n",
    "ojModel.Params.OutputFlag = 0\n",
    "ojModel.optimize()                                           # solve the LP"
   ]
  },
  {
   "cell_type": "code",
   "execution_count": 12,
   "id": "b1ed1847",
   "metadata": {},
   "outputs": [
    {
     "name": "stdout",
     "output_type": "stream",
     "text": [
      "0.456 M\n"
     ]
    }
   ],
   "source": [
    "objective_value2 = ojModel.objVal\n",
    "print(round(objective_value2, 3),\"M\")"
   ]
  },
  {
   "cell_type": "markdown",
   "id": "6709abd6",
   "metadata": {},
   "source": [
    "### The max profit realizeable with the given constraints and ROI    \n",
    "### = $0.456 Million"
   ]
  },
  {
   "cell_type": "markdown",
   "id": "a0c17dc2",
   "metadata": {},
   "source": [
    "---"
   ]
  },
  {
   "cell_type": "markdown",
   "id": "2ce019d9",
   "metadata": {},
   "source": [
    "### The breakdown for each marketing medium for Investment 2 is as follows :"
   ]
  },
  {
   "cell_type": "code",
   "execution_count": 13,
   "id": "ff0d48de",
   "metadata": {
    "scrolled": true
   },
   "outputs": [
    {
     "name": "stdout",
     "output_type": "stream",
     "text": [
      "Print        3.0\n",
      "TV           0.0\n",
      "SEO          0.0\n",
      "AdWords      1.0\n",
      "Facebook     3.0\n",
      "LinkedIn     3.0\n",
      "Instagram    0.0\n",
      "Snapchat     0.0\n",
      "Twitter      0.0\n",
      "Email        0.0\n",
      "dtype: float64\n"
     ]
    }
   ],
   "source": [
    "investment2 = ojModX.x\n",
    "print(pd.Series(investment2, index = df.iloc[0, 1:].index))"
   ]
  },
  {
   "cell_type": "code",
   "execution_count": 31,
   "id": "6b17c99d",
   "metadata": {},
   "outputs": [
    {
     "data": {
      "image/png": "[encoded data removed]",
      "text/plain": [
       "<Figure size 432x288 with 1 Axes>"
      ]
     },
     "metadata": {
      "needs_background": "light"
     },
     "output_type": "display_data"
    }
   ],
   "source": [
    "pd.Series(investment2, index = df.iloc[0, 1:].index).plot(kind = 'bar')\n",
    "plt.xlabel(\"Marketing Medium\")\n",
    "plt.ylabel(\"Investment\")\n",
    "plt.title(\"Marketing Medium Breakdown for Investment 2\")\n",
    "plt.show()"
   ]
  },
  {
   "cell_type": "markdown",
   "id": "8b545f88",
   "metadata": {},
   "source": [
    "---"
   ]
  },
  {
   "cell_type": "markdown",
   "id": "5303cd41",
   "metadata": {},
   "source": [
    "# Question #5.)"
   ]
  },
  {
   "cell_type": "markdown",
   "id": "e9af7180",
   "metadata": {},
   "source": [
    "### Comparing the two optimal allocations from the two different ROI estimates (Investment 1 & Investment 2) :"
   ]
  },
  {
   "cell_type": "code",
   "execution_count": 15,
   "id": "1bbf2342",
   "metadata": {
    "scrolled": true
   },
   "outputs": [
    {
     "name": "stdout",
     "output_type": "stream",
     "text": [
      "Difference in investments\n",
      "\n",
      "Print        3.0\n",
      "TV          -3.0\n",
      "SEO          0.0\n",
      "AdWords      0.0\n",
      "Facebook     3.0\n",
      "LinkedIn     3.0\n",
      "Instagram   -3.0\n",
      "Snapchat     0.0\n",
      "Twitter      0.0\n",
      "Email       -3.0\n",
      "dtype: float64\n"
     ]
    }
   ],
   "source": [
    "print(\"Difference in investments\\n\")\n",
    "\n",
    "print(pd.Series(investment2 - investment1, index = df.iloc[0, 1:].index))"
   ]
  },
  {
   "cell_type": "code",
   "execution_count": 16,
   "id": "7e556b17",
   "metadata": {},
   "outputs": [
    {
     "data": {
      "image/png": "[encoded data removed]",
      "text/plain": [
       "<Figure size 432x288 with 1 Axes>"
      ]
     },
     "metadata": {
      "needs_background": "light"
     },
     "output_type": "display_data"
    }
   ],
   "source": [
    "pd.Series(investment2 - investment1, index = df.iloc[0, 1:].index).plot(kind = 'bar')\n",
    "plt.xlabel(\"Marketing Medium\")\n",
    "plt.ylabel(\"Investment difference\")\n",
    "plt.title(\"Difference between Investment 2 & Investment 1\")\n",
    "plt.show()"
   ]
  },
  {
   "cell_type": "markdown",
   "id": "b8967870",
   "metadata": {},
   "source": [
    "> ###  --------> No, the allocations from the two different ROI estimates are not EXACTLY the same\n",
    "> ###  --------> However, they both do allocate the same amount for SEO, AdWords, Snapchat, & Twitter"
   ]
  },
  {
   "cell_type": "markdown",
   "id": "25d39b5f",
   "metadata": {},
   "source": [
    "### Finding the objective value using the first ROI data and second allocation"
   ]
  },
  {
   "cell_type": "code",
   "execution_count": 17,
   "id": "0b4dcd87",
   "metadata": {},
   "outputs": [
    {
     "name": "stdout",
     "output_type": "stream",
     "text": [
      "Objective value with second allocation and first ROI is $ 0.252 M\n",
      "Reduction is $ 0.204 M\n"
     ]
    }
   ],
   "source": [
    "new_obj = np.dot(investment2, np.array(df.iloc[0, 1:]))\n",
    "print(\"Objective value with second allocation and first ROI is $\", new_obj, \"M\")\n",
    "print(\"Reduction is $\", round(objective_value1 - new_obj, 3), \"M\")"
   ]
  },
  {
   "cell_type": "markdown",
   "id": "9160da33",
   "metadata": {},
   "source": [
    "### The objective value would be $0.204 M lower relative to the optimal objective using the first ROI data and first allocation "
   ]
  },
  {
   "cell_type": "markdown",
   "id": "61b59aaf",
   "metadata": {},
   "source": [
    "---"
   ]
  },
  {
   "cell_type": "markdown",
   "id": "8b6550a7",
   "metadata": {},
   "source": [
    "### Finding the objective value using the second ROI and first allocation"
   ]
  },
  {
   "cell_type": "code",
   "execution_count": 18,
   "id": "f0829a80",
   "metadata": {},
   "outputs": [
    {
     "name": "stdout",
     "output_type": "stream",
     "text": [
      "Objective value with first allocation and second ROI is $ 0.264 M\n",
      "Reduction is $ 0.192 M\n"
     ]
    }
   ],
   "source": [
    "new_obj = np.dot(investment1, np.array(df.iloc[1, 1:]))\n",
    "print(\"Objective value with first allocation and second ROI is $\", round(new_obj, 3), \"M\")\n",
    "print(\"Reduction is $\", round(objective_value2 - new_obj, 3), \"M\")"
   ]
  },
  {
   "cell_type": "markdown",
   "id": "eefbb2ac",
   "metadata": {},
   "source": [
    "### The objective value would be $0.192 M lower relative to the optimal objective using the first ROI data and first allocation"
   ]
  },
  {
   "cell_type": "markdown",
   "id": "5dade502",
   "metadata": {},
   "source": [
    "---"
   ]
  },
  {
   "cell_type": "markdown",
   "id": "644fc7ac",
   "metadata": {},
   "source": [
    "### Determining whether the third constraint is useful"
   ]
  },
  {
   "cell_type": "code",
   "execution_count": 19,
   "id": "87f44161",
   "metadata": {},
   "outputs": [
    {
     "name": "stdout",
     "output_type": "stream",
     "text": [
      "The final initial constraint matrix is: \n",
      "\n",
      " [[ 1.  1.  1.  1.  1.  1.  1.  1.  1.  1.]\n",
      " [ 1.  1.  0.  0. -1.  0.  0.  0.  0. -1.]\n",
      " [ 0.  0.  2.  2. -1. -1. -1. -1. -1.  0.]]\n",
      "\n",
      "--------------------------------------------\n",
      "\n",
      "The vector defining the limits for all the constraints is: \n",
      "\n",
      " [10  0  0]\n",
      "\n",
      "--------------------------------------------\n",
      "\n",
      "The vector defining the direction for all the constraints is: \n",
      "\n",
      " ['<' '<' '<']\n",
      "\n",
      "--------------------------------------------\n"
     ]
    }
   ],
   "source": [
    "#Without 3rd constraint\n",
    "obj = np.array(df.iloc[0, 1:])                         # objective vector\n",
    "\n",
    "A = np.zeros((3, 10))                                  # initialize constraint matrix\n",
    "\n",
    "A[0,:] = 1                                             # Constraint #1\n",
    "A[1,:] = [1, 1, 0, 0, -1, 0, 0, 0, 0, -1]              # Constraint #2\n",
    "A[2, 2:9] = [2, 2, -1, -1, -1, -1, -1]                 # Constraint #4\n",
    "\n",
    "b = np.array([10, 0, 0])                               # Defining the limits for all 3 constraints\n",
    "sense = np.array(['<'] * 3)                            # Defining the direction for all the constraints\n",
    "\n",
    "print(\"The final initial constraint matrix is: \\n\\n\", A)\n",
    "print(\"\\n--------------------------------------------\")\n",
    "print(\"\\nThe vector defining the limits for all the constraints is: \\n\\n\", b)\n",
    "print(\"\\n--------------------------------------------\")\n",
    "print(\"\\nThe vector defining the direction for all the constraints is: \\n\\n\", sense)\n",
    "print(\"\\n--------------------------------------------\")"
   ]
  },
  {
   "cell_type": "markdown",
   "id": "f7336b26",
   "metadata": {},
   "source": [
    "### Using gurobi to find the optimal budget allocation"
   ]
  },
  {
   "cell_type": "code",
   "execution_count": 20,
   "id": "4cf968c1",
   "metadata": {},
   "outputs": [],
   "source": [
    "ojModel = gp.Model()\n",
    "\n",
    "ojModX = ojModel.addMVar(len(obj))\n",
    "\n",
    "ojModCon = ojModel.addMConstrs(A, ojModX, sense, b)\n",
    "ojModel.setMObjective(None,obj,0,sense=gp.GRB.MAXIMIZE)\n",
    "\n",
    "ojModel.Params.OutputFlag = 0\n",
    "ojModel.optimize()                                # solve the LP"
   ]
  },
  {
   "cell_type": "code",
   "execution_count": 21,
   "id": "63b27e96",
   "metadata": {},
   "outputs": [
    {
     "name": "stdout",
     "output_type": "stream",
     "text": [
      "0.465 Million\n"
     ]
    }
   ],
   "source": [
    "objective_value3 = ojModel.objVal\n",
    "print(round(objective_value3, 3),\"Million\")"
   ]
  },
  {
   "cell_type": "markdown",
   "id": "a55dd2e3",
   "metadata": {},
   "source": [
    "### The max profit realizeable without the third constraint \n",
    "### = $0.465 Million"
   ]
  },
  {
   "cell_type": "code",
   "execution_count": 22,
   "id": "45ba96f8",
   "metadata": {},
   "outputs": [
    {
     "name": "stdout",
     "output_type": "stream",
     "text": [
      "Print        0.0\n",
      "TV           5.0\n",
      "SEO          0.0\n",
      "AdWords      0.0\n",
      "Facebook     0.0\n",
      "LinkedIn     0.0\n",
      "Instagram    0.0\n",
      "Snapchat     0.0\n",
      "Twitter      0.0\n",
      "Email        5.0\n",
      "dtype: float64\n",
      "Max profit - $ 0.465 M\n"
     ]
    }
   ],
   "source": [
    "print(pd.Series(ojModX.x, index = df.iloc[0, 1:].index))\n",
    "print(\"Max profit - $\", round(ojModel.objVal, 3),\"M\")"
   ]
  },
  {
   "cell_type": "code",
   "execution_count": 23,
   "id": "0da34fc3",
   "metadata": {},
   "outputs": [
    {
     "data": {
      "image/png": "[encoded data removed]",
      "text/plain": [
       "<Figure size 432x288 with 1 Axes>"
      ]
     },
     "metadata": {
      "needs_background": "light"
     },
     "output_type": "display_data"
    }
   ],
   "source": [
    "pd.Series(ojModX.x, index = df.iloc[0, 1:].index).plot(kind = 'bar')\n",
    "plt.xlabel(\"Marketing Medium\")\n",
    "plt.ylabel(\"Investment\")\n",
    "plt.title(\"Marketing Medium breakdown without third constraint\")\n",
    "plt.show()"
   ]
  },
  {
   "cell_type": "markdown",
   "id": "10505981",
   "metadata": {},
   "source": [
    "### Thus, it can be observed that without the 3rd constraint, the organization will be inclined to invest heavily into just TV and email marketing, completely ignoring the other channels. \n",
    "\n",
    "\n",
    "*Although this seems to provided a marginally higher ROI, this might end up being harmful in the long run, for the following reasons:*\n",
    "1. Although TV and Emails have the best ROI, after a point, marketing campaigns on a medium will be saturated, with the new customers obtained through that medium drying up, thereby reducing the ROI and making it inefficient.\n",
    "\n",
    "\n",
    "2. Other social media end up basically being untapped potential, where the people exclusively on these specific media are not targeted, who might actually be very relevant to the firm's customer base\n",
    "\n",
    "\n",
    "3. Investment into a single or limited number of streams is a high risk, high benefit approach, which might pay off handsomely in stock returns and some such fields, but has a very high change of failing, due to a multitude of reasons such as inaccessibility of said medium, public disinterest in the medium and so on, which might cause severe losses"
   ]
  },
  {
   "cell_type": "markdown",
   "id": "e49c55ea",
   "metadata": {},
   "source": [
    "# Question #6.)"
   ]
  },
  {
   "cell_type": "markdown",
   "id": "aef6f6c3",
   "metadata": {},
   "source": [
    "### Exploring how much the optimal allocation would change based on changes in the ROI data"
   ]
  },
  {
   "cell_type": "code",
   "execution_count": 24,
   "id": "986d4876",
   "metadata": {},
   "outputs": [],
   "source": [
    "obj = np.array(df.iloc[0, 1:]) # objective vector\n",
    "\n",
    "# we have 10 variables and 13 equations\n",
    "A = np.zeros((13, 10)) # initialize constraint matrix\n",
    "A[0,:] = 1 # budget constraint\n",
    "A[1,:] = [1, 1, 0, 0, -1, 0, 0, 0, 0, -1]\n",
    "A[2, 2:9] = [2, 2, -1, -1, -1, -1, -1]\n",
    "A[3:13,:] = np.identity(10)\n",
    "b = np.array([10, 0, 0] + [3] * 10)\n",
    "sense = np.array(['<'] * 13)\n",
    "\n",
    "ojModel = gp.Model()\n",
    "\n",
    "ojModX = ojModel.addMVar(len(obj))\n",
    "\n",
    "ojModCon = ojModel.addMConstrs(A, ojModX, sense, b)\n",
    "ojModel.setMObjective(None,obj,0,sense=gp.GRB.MAXIMIZE)\n",
    "\n",
    "ojModel.Params.OutputFlag = 0\n",
    "ojModel.optimize() # solve the LP\n",
    "\n",
    "roi = pd.DataFrame(data = np.zeros((10,2)), columns = ['min_roi', 'max_roi'], index = df.iloc[0, 1:].index)\n",
    "\n",
    "roi['min_roi'] = ojModX.SAObjLow\n",
    "roi['max_roi'] = ojModX.SAObjUp"
   ]
  },
  {
   "cell_type": "markdown",
   "id": "0335794e",
   "metadata": {},
   "source": [
    "### Below is a table listing how much we could increase or decrease each advertising's ROI and still result in the same optimal allocation found in Question #3.)"
   ]
  },
  {
   "cell_type": "code",
   "execution_count": 25,
   "id": "58fb91f8",
   "metadata": {},
   "outputs": [
    {
     "data": {
      "text/html": [
       "<div>\n",
       "<style scoped>\n",
       "    .dataframe tbody tr th:only-of-type {\n",
       "        vertical-align: middle;\n",
       "    }\n",
       "\n",
       "    .dataframe tbody tr th {\n",
       "        vertical-align: top;\n",
       "    }\n",
       "\n",
       "    .dataframe thead th {\n",
       "        text-align: right;\n",
       "    }\n",
       "</style>\n",
       "<table border=\"1\" class=\"dataframe\">\n",
       "  <thead>\n",
       "    <tr style=\"text-align: right;\">\n",
       "      <th></th>\n",
       "      <th>min_roi</th>\n",
       "      <th>max_roi</th>\n",
       "    </tr>\n",
       "  </thead>\n",
       "  <tbody>\n",
       "    <tr>\n",
       "      <th>Print</th>\n",
       "      <td>-inf</td>\n",
       "      <td>0.049</td>\n",
       "    </tr>\n",
       "    <tr>\n",
       "      <th>TV</th>\n",
       "      <td>0.039</td>\n",
       "      <td>0.062</td>\n",
       "    </tr>\n",
       "    <tr>\n",
       "      <th>SEO</th>\n",
       "      <td>-inf</td>\n",
       "      <td>0.039</td>\n",
       "    </tr>\n",
       "    <tr>\n",
       "      <th>AdWords</th>\n",
       "      <td>0.033</td>\n",
       "      <td>0.046</td>\n",
       "    </tr>\n",
       "    <tr>\n",
       "      <th>Facebook</th>\n",
       "      <td>-inf</td>\n",
       "      <td>0.029</td>\n",
       "    </tr>\n",
       "    <tr>\n",
       "      <th>LinkedIn</th>\n",
       "      <td>-inf</td>\n",
       "      <td>0.039</td>\n",
       "    </tr>\n",
       "    <tr>\n",
       "      <th>Instagram</th>\n",
       "      <td>0.039</td>\n",
       "      <td>inf</td>\n",
       "    </tr>\n",
       "    <tr>\n",
       "      <th>Snapchat</th>\n",
       "      <td>-inf</td>\n",
       "      <td>0.039</td>\n",
       "    </tr>\n",
       "    <tr>\n",
       "      <th>Twitter</th>\n",
       "      <td>-inf</td>\n",
       "      <td>0.039</td>\n",
       "    </tr>\n",
       "    <tr>\n",
       "      <th>Email</th>\n",
       "      <td>0.029</td>\n",
       "      <td>inf</td>\n",
       "    </tr>\n",
       "  </tbody>\n",
       "</table>\n",
       "</div>"
      ],
      "text/plain": [
       "           min_roi  max_roi\n",
       "Print         -inf    0.049\n",
       "TV           0.039    0.062\n",
       "SEO           -inf    0.039\n",
       "AdWords      0.033    0.046\n",
       "Facebook      -inf    0.029\n",
       "LinkedIn      -inf    0.039\n",
       "Instagram    0.039      inf\n",
       "Snapchat      -inf    0.039\n",
       "Twitter       -inf    0.039\n",
       "Email        0.029      inf"
      ]
     },
     "execution_count": 25,
     "metadata": {},
     "output_type": "execute_result"
    }
   ],
   "source": [
    "roi"
   ]
  },
  {
   "cell_type": "markdown",
   "id": "c6e206cc",
   "metadata": {},
   "source": [
    "* It seems that in terms of decreasing each advertising ROI, the mediums \"Print\", \"SEO\", \"Facebook\", \"LinkedIn\", \"Snapchat\", and \"Twitter\" could be decreased infinitely, and the result would still be the same optimal allocation.\n",
    "\n",
    "\n",
    "* Regarding increasing each advertising ROI, the mediums \"Instagram\" and \"Email\" could be increased infinitely, and the result would still be the same optimal allocation"
   ]
  },
  {
   "cell_type": "markdown",
   "id": "b1a3c07d",
   "metadata": {},
   "source": [
    "# Question #7.)"
   ]
  },
  {
   "cell_type": "markdown",
   "id": "93faf1ea",
   "metadata": {},
   "source": [
    "### Determining the optimal allocation for each month based on the monthly ROI given for next year"
   ]
  },
  {
   "cell_type": "code",
   "execution_count": 26,
   "id": "b8251ddc",
   "metadata": {
    "scrolled": true
   },
   "outputs": [
    {
     "data": {
      "text/html": [
       "<div>\n",
       "<style scoped>\n",
       "    .dataframe tbody tr th:only-of-type {\n",
       "        vertical-align: middle;\n",
       "    }\n",
       "\n",
       "    .dataframe tbody tr th {\n",
       "        vertical-align: top;\n",
       "    }\n",
       "\n",
       "    .dataframe thead th {\n",
       "        text-align: right;\n",
       "    }\n",
       "</style>\n",
       "<table border=\"1\" class=\"dataframe\">\n",
       "  <thead>\n",
       "    <tr style=\"text-align: right;\">\n",
       "      <th></th>\n",
       "      <th>Unnamed: 0</th>\n",
       "      <th>Print</th>\n",
       "      <th>TV</th>\n",
       "      <th>SEO</th>\n",
       "      <th>AdWords</th>\n",
       "      <th>Facebook</th>\n",
       "      <th>LinkedIn</th>\n",
       "      <th>Instagram</th>\n",
       "      <th>Snapchat</th>\n",
       "      <th>Twitter</th>\n",
       "      <th>Email</th>\n",
       "    </tr>\n",
       "  </thead>\n",
       "  <tbody>\n",
       "    <tr>\n",
       "      <th>0</th>\n",
       "      <td>January</td>\n",
       "      <td>4.0</td>\n",
       "      <td>3.6</td>\n",
       "      <td>2.4</td>\n",
       "      <td>3.9</td>\n",
       "      <td>3.0</td>\n",
       "      <td>3.5</td>\n",
       "      <td>3.6</td>\n",
       "      <td>2.25</td>\n",
       "      <td>3.5</td>\n",
       "      <td>3.5</td>\n",
       "    </tr>\n",
       "    <tr>\n",
       "      <th>1</th>\n",
       "      <td>February</td>\n",
       "      <td>4.0</td>\n",
       "      <td>3.9</td>\n",
       "      <td>2.7</td>\n",
       "      <td>3.8</td>\n",
       "      <td>4.3</td>\n",
       "      <td>3.2</td>\n",
       "      <td>2.7</td>\n",
       "      <td>1.80</td>\n",
       "      <td>3.7</td>\n",
       "      <td>3.5</td>\n",
       "    </tr>\n",
       "    <tr>\n",
       "      <th>2</th>\n",
       "      <td>March</td>\n",
       "      <td>3.5</td>\n",
       "      <td>2.9</td>\n",
       "      <td>3.1</td>\n",
       "      <td>3.8</td>\n",
       "      <td>2.4</td>\n",
       "      <td>4.1</td>\n",
       "      <td>3.7</td>\n",
       "      <td>2.60</td>\n",
       "      <td>4.2</td>\n",
       "      <td>2.5</td>\n",
       "    </tr>\n",
       "    <tr>\n",
       "      <th>3</th>\n",
       "      <td>April</td>\n",
       "      <td>3.8</td>\n",
       "      <td>3.1</td>\n",
       "      <td>2.4</td>\n",
       "      <td>4.4</td>\n",
       "      <td>2.4</td>\n",
       "      <td>3.8</td>\n",
       "      <td>3.7</td>\n",
       "      <td>2.50</td>\n",
       "      <td>3.6</td>\n",
       "      <td>2.9</td>\n",
       "    </tr>\n",
       "    <tr>\n",
       "      <th>4</th>\n",
       "      <td>May</td>\n",
       "      <td>3.5</td>\n",
       "      <td>3.2</td>\n",
       "      <td>1.9</td>\n",
       "      <td>3.4</td>\n",
       "      <td>2.7</td>\n",
       "      <td>2.7</td>\n",
       "      <td>3.9</td>\n",
       "      <td>2.20</td>\n",
       "      <td>4.5</td>\n",
       "      <td>3.9</td>\n",
       "    </tr>\n",
       "    <tr>\n",
       "      <th>5</th>\n",
       "      <td>June</td>\n",
       "      <td>4.0</td>\n",
       "      <td>3.2</td>\n",
       "      <td>2.7</td>\n",
       "      <td>3.4</td>\n",
       "      <td>3.4</td>\n",
       "      <td>3.0</td>\n",
       "      <td>4.5</td>\n",
       "      <td>2.10</td>\n",
       "      <td>3.8</td>\n",
       "      <td>4.1</td>\n",
       "    </tr>\n",
       "    <tr>\n",
       "      <th>6</th>\n",
       "      <td>July</td>\n",
       "      <td>3.9</td>\n",
       "      <td>3.6</td>\n",
       "      <td>2.0</td>\n",
       "      <td>4.4</td>\n",
       "      <td>3.9</td>\n",
       "      <td>3.7</td>\n",
       "      <td>4.3</td>\n",
       "      <td>1.80</td>\n",
       "      <td>4.0</td>\n",
       "      <td>3.8</td>\n",
       "    </tr>\n",
       "    <tr>\n",
       "      <th>7</th>\n",
       "      <td>August</td>\n",
       "      <td>4.2</td>\n",
       "      <td>3.3</td>\n",
       "      <td>2.8</td>\n",
       "      <td>4.2</td>\n",
       "      <td>2.0</td>\n",
       "      <td>3.7</td>\n",
       "      <td>3.6</td>\n",
       "      <td>1.50</td>\n",
       "      <td>4.4</td>\n",
       "      <td>4.3</td>\n",
       "    </tr>\n",
       "    <tr>\n",
       "      <th>8</th>\n",
       "      <td>September</td>\n",
       "      <td>4.1</td>\n",
       "      <td>2.8</td>\n",
       "      <td>2.5</td>\n",
       "      <td>4.2</td>\n",
       "      <td>2.9</td>\n",
       "      <td>3.7</td>\n",
       "      <td>2.8</td>\n",
       "      <td>2.50</td>\n",
       "      <td>4.0</td>\n",
       "      <td>3.4</td>\n",
       "    </tr>\n",
       "    <tr>\n",
       "      <th>9</th>\n",
       "      <td>October</td>\n",
       "      <td>3.0</td>\n",
       "      <td>3.0</td>\n",
       "      <td>3.1</td>\n",
       "      <td>4.6</td>\n",
       "      <td>3.1</td>\n",
       "      <td>3.3</td>\n",
       "      <td>3.2</td>\n",
       "      <td>2.30</td>\n",
       "      <td>2.5</td>\n",
       "      <td>3.2</td>\n",
       "    </tr>\n",
       "    <tr>\n",
       "      <th>10</th>\n",
       "      <td>November</td>\n",
       "      <td>4.8</td>\n",
       "      <td>3.3</td>\n",
       "      <td>2.7</td>\n",
       "      <td>4.1</td>\n",
       "      <td>2.9</td>\n",
       "      <td>3.6</td>\n",
       "      <td>4.2</td>\n",
       "      <td>3.00</td>\n",
       "      <td>3.1</td>\n",
       "      <td>4.1</td>\n",
       "    </tr>\n",
       "    <tr>\n",
       "      <th>11</th>\n",
       "      <td>December</td>\n",
       "      <td>4.8</td>\n",
       "      <td>4.0</td>\n",
       "      <td>1.9</td>\n",
       "      <td>3.7</td>\n",
       "      <td>4.2</td>\n",
       "      <td>3.6</td>\n",
       "      <td>2.6</td>\n",
       "      <td>2.90</td>\n",
       "      <td>3.6</td>\n",
       "      <td>3.7</td>\n",
       "    </tr>\n",
       "  </tbody>\n",
       "</table>\n",
       "</div>"
      ],
      "text/plain": [
       "   Unnamed: 0  Print   TV  SEO  AdWords  Facebook  LinkedIn  Instagram  \\\n",
       "0     January    4.0  3.6  2.4      3.9       3.0       3.5        3.6   \n",
       "1    February    4.0  3.9  2.7      3.8       4.3       3.2        2.7   \n",
       "2       March    3.5  2.9  3.1      3.8       2.4       4.1        3.7   \n",
       "3       April    3.8  3.1  2.4      4.4       2.4       3.8        3.7   \n",
       "4         May    3.5  3.2  1.9      3.4       2.7       2.7        3.9   \n",
       "5        June    4.0  3.2  2.7      3.4       3.4       3.0        4.5   \n",
       "6        July    3.9  3.6  2.0      4.4       3.9       3.7        4.3   \n",
       "7      August    4.2  3.3  2.8      4.2       2.0       3.7        3.6   \n",
       "8   September    4.1  2.8  2.5      4.2       2.9       3.7        2.8   \n",
       "9     October    3.0  3.0  3.1      4.6       3.1       3.3        3.2   \n",
       "10   November    4.8  3.3  2.7      4.1       2.9       3.6        4.2   \n",
       "11   December    4.8  4.0  1.9      3.7       4.2       3.6        2.6   \n",
       "\n",
       "    Snapchat  Twitter  Email  \n",
       "0       2.25      3.5    3.5  \n",
       "1       1.80      3.7    3.5  \n",
       "2       2.60      4.2    2.5  \n",
       "3       2.50      3.6    2.9  \n",
       "4       2.20      4.5    3.9  \n",
       "5       2.10      3.8    4.1  \n",
       "6       1.80      4.0    3.8  \n",
       "7       1.50      4.4    4.3  \n",
       "8       2.50      4.0    3.4  \n",
       "9       2.30      2.5    3.2  \n",
       "10      3.00      3.1    4.1  \n",
       "11      2.90      3.6    3.7  "
      ]
     },
     "execution_count": 26,
     "metadata": {},
     "output_type": "execute_result"
    }
   ],
   "source": [
    "monthly_roi = pd.read_csv('roi_mat.csv')\n",
    "monthly_roi"
   ]
  },
  {
   "cell_type": "code",
   "execution_count": 27,
   "id": "a9c375b6",
   "metadata": {},
   "outputs": [],
   "source": [
    "month = monthly_roi.columns[0]"
   ]
  },
  {
   "cell_type": "code",
   "execution_count": 28,
   "id": "f22a1cae",
   "metadata": {},
   "outputs": [
    {
     "name": "stdout",
     "output_type": "stream",
     "text": [
      "\n",
      "\n",
      " ROI after January  - $ 0.373 M\n",
      "\n",
      "[3.    0.    0.    1.333 0.    0.    2.667 0.    0.    3.   ]\n",
      "\n",
      "\n",
      " ROI after February  - $ 0.399 M\n",
      "\n",
      "[3.    0.    0.    2.333 3.    0.    0.    0.    1.667 0.   ]\n",
      "\n",
      "\n",
      " ROI after March  - $ 0.4 M\n",
      "\n",
      "[0. 0. 0. 3. 0. 3. 1. 0. 3. 0.]\n",
      "\n",
      "\n",
      " ROI after April  - $ 0.393 M\n",
      "\n",
      "[0. 0. 0. 3. 0. 3. 3. 0. 1. 0.]\n",
      "\n",
      "\n",
      " ROI after May  - $ 0.404 M\n",
      "\n",
      "[1. 0. 0. 0. 0. 0. 3. 0. 3. 3.]\n",
      "\n",
      "\n",
      " ROI after June  - $ 0.416 M\n",
      "\n",
      "[3. 0. 0. 0. 0. 0. 3. 0. 1. 3.]\n",
      "\n",
      "\n",
      " ROI after July  - $ 0.42 M\n",
      "\n",
      "[0. 0. 0. 3. 1. 0. 3. 0. 3. 0.]\n",
      "\n",
      "\n",
      " ROI after August  - $ 0.429 M\n",
      "\n",
      "[2.5 0.  0.  1.5 0.  0.  0.  0.  3.  3. ]\n",
      "\n",
      "\n",
      " ROI after September  - $ 0.395 M\n",
      "\n",
      "[0.5 0.  0.  3.  0.  3.  0.  0.  3.  0.5]\n",
      "\n",
      "\n",
      " ROI after October  - $ 0.365 M\n",
      "\n",
      "[0. 0. 0. 3. 0. 3. 3. 0. 0. 1.]\n",
      "\n",
      "\n",
      " ROI after November  - $ 0.434 M\n",
      "\n",
      "[3. 0. 0. 1. 0. 0. 3. 0. 0. 3.]\n",
      "\n",
      "\n",
      " ROI after December  - $ 0.424 M\n",
      "\n",
      "[3. 2. 0. 0. 3. 0. 0. 0. 0. 2.]\n"
     ]
    }
   ],
   "source": [
    "budget_constrain = 10\n",
    "roi_monthwise = np.zeros(12)\n",
    "month_no = range(1, 13, 1)\n",
    "\n",
    "for i in range(12):\n",
    "    \n",
    "    # initialize constraint matrix\n",
    "    A = np.zeros((13, 10)) # initialize constraint matrix\n",
    "    A[0,:] = 1                                         # Constraint #1\n",
    "    A[1,:] = [1, 1, 0, 0, -1, 0, 0, 0, 0, -1]          # Constraint #2\n",
    "    A[2, 2:9] = [2, 2, -1, -1, -1, -1, -1]             # Constraint #3\n",
    "    A[3:13,:] = np.identity(10)                        # Constraint #4\n",
    "\n",
    "    b = np.array([10, 0, 0] + [3] * 10)                # Defining the limits for all 4 constraints\n",
    "    sense = np.array(['<'] * 13)                       # Defining the direction for all the constraints\n",
    "\n",
    "    obj = np.array(monthly_roi.iloc[i, 1:]) / 100      # objective vector\n",
    "\n",
    "    ojModel = gp.Model()\n",
    "\n",
    "    ojModX = ojModel.addMVar(len(obj))\n",
    "\n",
    "    ojModCon = ojModel.addMConstrs(A, ojModX, sense, b)\n",
    "    ojModel.setMObjective(None,obj,0,sense=gp.GRB.MAXIMIZE)\n",
    "\n",
    "    ojModel.Params.OutputFlag = 0\n",
    "    ojModel.optimize() # solve the LP\n",
    "    print(\"\\n\\n ROI after\", monthly_roi[month].iloc[i], \" - $\", round(ojModel.objVal, 3), \"M\\n\")\n",
    "    roi_monthwise[i] = ojModel.objVal\n",
    "    print(ojModX.x)\n",
    "    \n",
    "    # Updating the budget constraint. Adding 50% to the returns back to marketing budget\n",
    "    budget_constrain = budget_constrain + (ojModel.objVal/2)"
   ]
  },
  {
   "cell_type": "code",
   "execution_count": 29,
   "id": "f851fb04",
   "metadata": {},
   "outputs": [
    {
     "data": {
      "image/png": "[encoded data removed]",
      "text/plain": [
       "<Figure size 432x288 with 1 Axes>"
      ]
     },
     "metadata": {
      "needs_background": "light"
     },
     "output_type": "display_data"
    }
   ],
   "source": [
    "plt.plot(month_no, roi_monthwise)\n",
    "plt.xlabel(\"Month\")\n",
    "plt.ylabel(\"ROI after Month x (in M)\")\n",
    "plt.title(\"ROI after month x vs Month number\")\n",
    "plt.show()"
   ]
  },
  {
   "cell_type": "markdown",
   "id": "b6bea757",
   "metadata": {},
   "source": [
    "# Question #8.)"
   ]
  },
  {
   "cell_type": "markdown",
   "id": "fe9affb7",
   "metadata": {},
   "source": [
    "### Determining whether the allocation we found is stable.\n",
    "\n",
    "### A *stable budget* is defined as a monthly allocation such that for each platform, the monthly change in spending is no more than $1M. "
   ]
  },
  {
   "cell_type": "code",
   "execution_count": 30,
   "id": "bfdb6ee3",
   "metadata": {},
   "outputs": [
    {
     "name": "stdout",
     "output_type": "stream",
     "text": [
      "\n",
      "\n",
      " From  January to February , the change is more than $1M -- Allocation is NOT stable\n",
      "[ 0.     0.     0.    -1.062 -3.     0.     2.667  0.    -1.791  3.   ]\n",
      "\n",
      "\n",
      " From  February to March , the change is more than $1M -- Allocation is NOT stable\n",
      "[ 3.     0.     0.    -0.604  3.    -3.    -1.39   0.    -1.209  0.   ]\n",
      "\n",
      "\n",
      " From  March to April , the change is more than $1M -- Allocation is NOT stable\n",
      "[ 0.     0.     0.     0.     0.     0.    -1.61   0.     1.403  0.   ]\n",
      "\n",
      "\n",
      " From  April to May , the change is more than $1M -- Allocation is NOT stable\n",
      "[-1.804  0.     0.     3.     0.     3.     0.     0.    -1.403 -3.   ]\n",
      "\n",
      "\n",
      " From  May to June , the change is more than $1M -- Allocation is NOT stable\n",
      "[-1.196  0.     0.     0.     0.     0.     0.     0.     0.98   0.   ]\n",
      "\n",
      "\n",
      " From  June to July , the change is more than $1M -- Allocation is NOT stable\n",
      "[ 1.876  0.     0.    -3.    -1.124  0.     0.     0.    -0.98   3.   ]\n",
      "\n",
      "\n",
      " From  July to August , the change is more than $1M -- Allocation is NOT stable\n",
      "[-1.876  0.     0.     1.173  1.124 -0.655  3.     0.     0.    -3.   ]\n",
      "\n",
      "\n",
      " From  August to September , the change is more than $1M -- Allocation is NOT stable\n",
      "[ 1.637  0.     0.    -1.173  0.    -2.345  0.     0.     0.     1.637]\n",
      "\n",
      "\n",
      " From  September to October , the change is more than $1M -- Allocation is NOT stable\n",
      "[ 1.363  0.     0.     0.     0.     0.    -3.     0.     3.    -1.593]\n",
      "\n",
      "\n",
      " From  October to November , the change is more than $1M -- Allocation is NOT stable\n",
      "[-3.     0.     0.     0.944  0.     1.887  0.     0.     0.    -0.045]\n",
      "\n",
      "\n",
      " From  November to December , the change is more than $1M -- Allocation is NOT stable\n",
      "[ 0.    -3.     0.     1.628 -3.     1.113  3.     0.     0.     0.   ]\n"
     ]
    }
   ],
   "source": [
    "budget_constrain = 10\n",
    "\n",
    "for i in range(12):\n",
    "    \n",
    "    # we have 10 variables and 13 equations\n",
    "    A = np.zeros((13, 10)) # initialize constraint matrix\n",
    "    A[0,:] = 1 # budget constraint\n",
    "    A[1,:] = [1, 1, 0, 0, -1, 0, 0, 0, 0, -1]\n",
    "    A[2, 2:9] = [2, 2, -1, -1, -1, -1, -1]\n",
    "    A[3:13,:] = np.identity(10)\n",
    "    b = np.array([budget_constrain, 0, 0] + [3] * 10)\n",
    "    sense = np.array(['<'] * 13)\n",
    "    obj = np.array(monthly_roi.iloc[i, 1:]) / 100 # objective vector\n",
    "\n",
    "    ojModel = gp.Model()\n",
    "\n",
    "    ojModX = ojModel.addMVar(len(obj))\n",
    "\n",
    "    ojModCon = ojModel.addMConstrs(A, ojModX, sense, b)\n",
    "    ojModel.setMObjective(None,obj,0,sense=gp.GRB.MAXIMIZE)\n",
    "\n",
    "    ojModel.Params.OutputFlag = 0\n",
    "    ojModel.optimize() # solve the LP\n",
    "    \n",
    "    if not i == 0:\n",
    "        if max(np.abs(investment - ojModX.x)) >= 1:\n",
    "            print (\"\\n\\n From \", monthly_roi[month].iloc[i-1], \"to\", monthly_roi[month].iloc[i], \",\", \n",
    "                   \"the change is more than $1M -- Allocation is NOT stable\")\n",
    "            print(investment - ojModX.x)\n",
    "    investment = ojModX.x\n",
    "    \n",
    "    budget_constrain = budget_constrain + (ojModel.objVal/2)"
   ]
  }
 ],
 "metadata": {
  "kernelspec": {
   "display_name": "Python 3",
   "language": "python",
   "name": "python3"
  },
  "language_info": {
   "codemirror_mode": {
    "name": "ipython",
    "version": 3
   },
   "file_extension": ".py",
   "mimetype": "text/x-python",
   "name": "python",
   "nbconvert_exporter": "python",
   "pygments_lexer": "ipython3",
   "version": "3.8.8"
  },
  "varInspector": {
   "cols": {
    "lenName": 16,
    "lenType": 16,
    "lenVar": 40
   },
   "kernels_config": {
    "python": {
     "delete_cmd_postfix": "",
     "delete_cmd_prefix": "del ",
     "library": "var_list.py",
     "varRefreshCmd": "print(var_dic_list())"
    },
    "r": {
     "delete_cmd_postfix": ") ",
     "delete_cmd_prefix": "rm(",
     "library": "var_list.r",
     "varRefreshCmd": "cat(var_dic_list()) "
    }
   },
   "types_to_exclude": [
    "module",
    "function",
    "builtin_function_or_method",
    "instance",
    "_Feature"
   ],
   "window_display": false
  }
 },
 "nbformat": 4,
 "nbformat_minor": 5
}
