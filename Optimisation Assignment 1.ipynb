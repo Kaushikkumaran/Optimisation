{
 "cells": [
  {
   "cell_type": "markdown",
   "id": "14e80976",
   "metadata": {},
   "source": [
    "## Question 1 :\n",
    "A bank makes four kinds of loans to its customers and these loans yield the following annual interest rates to the bank:\n",
    "\n",
    "• First mortgage 14%\n",
    "• Second mortgage 20%\n",
    "• Home improvement 20%\n",
    "\n",
    "• Personal overdraft 10%\n",
    "\n",
    "We are interested in the bank’s lending strategy. The information we know is as following:\n",
    "\n",
    "1. In total $250 million is lent out.\n",
    "2. First mortgages are 55% of all mortgages (i.e. first and second mortgage) issued.\n",
    "\n",
    "3. Second mortgages are 25% of all loans issued.\n",
    "4. The dollar-weighted average interest rate on all loans is 15%.\n",
    "\n",
    "Calculate the lending strategy using matrix inversion.  How much is lent in home improvement loans?\n",
    "\n",
    " \n",
    "\n",
    "Answer in millions of dollars, rounded to 2 decimal places.  If the answer is $23080444.12, then you should enter 23.08."
   ]
  },
  {
   "cell_type": "markdown",
   "id": "68be915e",
   "metadata": {},
   "source": [
    "### Set of four equations:\n",
    "a+b+c+d = 250 ---------------1\n",
    "\n",
    "a = (55/100)(a+b) -------------2\n",
    "\n",
    "b = (25/100)(a+b+c+d)-------------3\n",
    "\n",
    "0.14a + 0.2b + 0.2c + 0.1d = 0.15 (a+b+c+d)----------4"
   ]
  },
  {
   "cell_type": "code",
   "execution_count": 1,
   "id": "efc42ec4",
   "metadata": {},
   "outputs": [
    {
     "data": {
      "text/plain": [
       "array([76.38888889, 62.5       , 31.94444444, 79.16666667])"
      ]
     },
     "execution_count": 1,
     "metadata": {},
     "output_type": "execute_result"
    }
   ],
   "source": [
    "import numpy as np\n",
    "A = np.array([[1,1,1,1],[9,-11,0,0],[1,-3,1,1],[0.01,-0.05,-0.05,0.05]])\n",
    "b = [250,0,0,0]\n",
    "abcd = np.linalg.solve(A,b)\n",
    "abcd\n",
    "# Answer is 31.94"
   ]
  },
  {
   "cell_type": "code",
   "execution_count": 14,
   "id": "306ae251",
   "metadata": {},
   "outputs": [],
   "source": [
    "# Quality check\n",
    "x = 0.14*76.38888889 + 0.2*62.5 + 0.2*31.94444444 + 0.1*79.16666667\n",
    "y = 15/100*250\n",
    "# print(x,y)"
   ]
  },
  {
   "cell_type": "code",
   "execution_count": 15,
   "id": "e14815f7",
   "metadata": {},
   "outputs": [],
   "source": [
    "# Amount lent in home improvement loans - Answer is 31.94"
   ]
  },
  {
   "cell_type": "markdown",
   "id": "eb76ca5d",
   "metadata": {},
   "source": [
    "## Question 2 :\n",
    "Rankings are ubiquitous. You may have heard of Google’s PageRank and IMDB movie ratings. The backbone of these systems is Linear Algebra. We want to give you to taste of building your own ranking system to rank sports teams.\n",
    "\n",
    "In a football league one is interested in modeling the ratings of teams based on the margin of victory and not just the outcomes, win/loss/draw. Consider the following data for five teams playing in such a league\n",
    "\n",
    "An entry (i, j) = (x-y) in this table represents a match between team i and team j where team i scored x points and team j scored y points. Our task is to first rate the teams and then convert the ratings to rankings.\n",
    "\n",
    "Our goal is to find one number (the rating), ri,  for each team, so that when you compare the ratings between 2 teams, the difference in this rating is equal to the difference in points scored when those 2 teams played each other.  For example, team team 4 beat team 1 by a score of 38-7.  The point difference here is 31 points.  So if we compare team 4's rating to team 1's rating, r4 - r1 = 31.  This is not possible however because there are only 5 teams which leads to 5 values of r, and there were 10 games.  This means there are 5 unknowns and 10 equations, which is a system of equations that cannot be solved.  In this problem, our goal is to find the 5 unknowns that get as close as possible to satisfying the 10 equations!  To do this we will first pose the matrix equation with 5 unknowns and 10 equations and then use a trick from regression to find the closest answer possible.\n",
    "\n",
    "We want\n",
    "\n",
    "yk = ri − rj\n",
    "Here yk is the difference in points scored by teams i, j in the match k and ri, rj are the ratings for teams i and j respectively. Assume N teams and M games.This won't be possible for every team/game, but the following steps will tell us how to find the best r's.\n",
    "\n",
    "Part 1\n",
    "\n",
    "Pose a matrix equation to solve for individual ratings of the form X r = y, the entries for coefficient matrix X represent the difference in ratings for the opponents in each game and y represents the difference in score of each game. Each row in X is a game between 2 teams.  This is the 5 unknown and 10 equation system.\n",
    "\n",
    "Part 2\n",
    "\n",
    "Typically the number of games is much greater than the number of teams, which means our system is overdetermined and we cannot solve the matrix equation by simply inverting the coefficient matrix. However, we can solve for approximate rating using least squares. Consider the normal equation for least squares of the form\n",
    "\n",
    "X⊤X r = X⊤ y\n",
    "\n",
    "If you don't know how to take matrix transpose in python, you can google it.\n",
    "Let M = X⊤X. We can interpret the diagonal elements of M as the number of games played by a team and the off diagonal elements of the matrix M as the negation of the number of games played by team i against team j. Similarly the jth entry for the RHS p = X⊤y is the sum of the difference in points for every game played by team j.\n",
    "Use the information above to determine the entries for M and X⊤y in our new system.\n",
    "\n",
    "Part 3\n",
    "\n",
    "The matrix M is not invertible. So you cannot solve for ratings, r by inverting M. However, to make it invertible you can add a constraint. For simplicity let us assume that all our ratings add to 0.\n",
    "\n",
    "Modify your matrix equation Mr = p to incorporate this constraint and get a new system  \n",
    "\n",
    "Mc r = pc.\n",
    "\n",
    "To do this remove the last row in M and (X⊤ y) and replace it with an equation that guarantees all entries of r sum to 0.\n",
    "\n",
    "Finally, solve for the ratings of the teams with data above and sort them to get team rankings.\n",
    "\n",
    "Which team is the second best team?"
   ]
  },
  {
   "cell_type": "code",
   "execution_count": 3,
   "id": "06c97f86",
   "metadata": {},
   "outputs": [],
   "source": [
    "# Defining the X and y matrix\n",
    "X = np.array([[-1,1,0,0,0],[-1,0,1,0,0],[-1,0,0,1,0],[-1,0,0,0,1],\n",
    "[0,1,-1,0,0],[0,1,0,-1,0],[0,1,0,0,-1],[0,0,1,-1,0],[0,0,-1,0,1],[0,0,0,-1,1]])\n",
    "y = np.array([45,3,31,45,18,8,20,2,27,38])"
   ]
  },
  {
   "cell_type": "code",
   "execution_count": 4,
   "id": "67cb67a0",
   "metadata": {},
   "outputs": [],
   "source": [
    "XT = np.transpose(X) # Taking the transpose of X matrix\n",
    "# Multiplying X-1 on both sides with X and y\n",
    "M = np.matmul(XT,X)\n",
    "P = np.matmul(XT,y)"
   ]
  },
  {
   "cell_type": "code",
   "execution_count": 5,
   "id": "cfd738af",
   "metadata": {},
   "outputs": [
    {
     "data": {
      "text/plain": [
       "array([-24.8,  18.2,  -8. ,  -3.4,  18. ])"
      ]
     },
     "execution_count": 5,
     "metadata": {},
     "output_type": "execute_result"
    }
   ],
   "source": [
    "M[4:,] = [1,1,1,1,1]\n",
    "P[4] = 0\n",
    "r = np.linalg.solve(M,P)\n",
    "r"
   ]
  },
  {
   "cell_type": "markdown",
   "id": "2945412c",
   "metadata": {},
   "source": [
    "Team 5 has a rating of 18 and is thereby the second best team"
   ]
  },
  {
   "cell_type": "markdown",
   "id": "e4dd1678",
   "metadata": {},
   "source": [
    "## Question 3 :\n",
    "A Lehmer matrix is one whose entries are specified by the following rule\n",
    "Ai,j = i/j if j > i and Ai,j = j/i otherwise\n",
    "Write a function named lehmer_entry which takes two arguments and outputs the value of the entry. Then use “for loop(s)” to generate a 20 by 20 Lehmer Matrix.\n",
    "(Hint: First generate a 4 by 4 matrix with all the elements being 0. Then use for loop(s) and if statement to define the Lehmer matrix. Find the 4 by 4 Lehmer matrix and use the Wikipedia to check. Then you can change the code to run a 20 by 20)\n",
    "Is A symmetric?"
   ]
  },
  {
   "cell_type": "code",
   "execution_count": 6,
   "id": "b4119dcd",
   "metadata": {},
   "outputs": [
    {
     "data": {
      "text/plain": [
       "array([[1.        , 0.5       , 0.33333333, 0.25      ],\n",
       "       [0.5       , 1.        , 0.66666667, 0.5       ],\n",
       "       [0.33333333, 0.66666667, 1.        , 0.75      ],\n",
       "       [0.25      , 0.5       , 0.75      , 1.        ]])"
      ]
     },
     "execution_count": 6,
     "metadata": {},
     "output_type": "execute_result"
    }
   ],
   "source": [
    "# Doing it for a 4X4 matrix\n",
    "A = np.zeros((4,4))\n",
    "for i in range(0,4):\n",
    "    for j in range(0,4):\n",
    "        if (j+1)>(i+1):\n",
    "            A[i,j] = (i+1)/(j+1)\n",
    "        else:\n",
    "            A[i,j] = (j+1)/(i+1)\n",
    "A"
   ]
  },
  {
   "cell_type": "code",
   "execution_count": 7,
   "id": "078d7b72",
   "metadata": {},
   "outputs": [
    {
     "data": {
      "text/plain": [
       "array([[1.        , 0.5       , 0.33333333, 0.25      , 0.2       ,\n",
       "        0.16666667, 0.14285714, 0.125     , 0.11111111, 0.1       ,\n",
       "        0.09090909, 0.08333333, 0.07692308, 0.07142857, 0.06666667,\n",
       "        0.0625    , 0.05882353, 0.05555556, 0.05263158, 0.05      ],\n",
       "       [0.5       , 1.        , 0.66666667, 0.5       , 0.4       ,\n",
       "        0.33333333, 0.28571429, 0.25      , 0.22222222, 0.2       ,\n",
       "        0.18181818, 0.16666667, 0.15384615, 0.14285714, 0.13333333,\n",
       "        0.125     , 0.11764706, 0.11111111, 0.10526316, 0.1       ],\n",
       "       [0.33333333, 0.66666667, 1.        , 0.75      , 0.6       ,\n",
       "        0.5       , 0.42857143, 0.375     , 0.33333333, 0.3       ,\n",
       "        0.27272727, 0.25      , 0.23076923, 0.21428571, 0.2       ,\n",
       "        0.1875    , 0.17647059, 0.16666667, 0.15789474, 0.15      ],\n",
       "       [0.25      , 0.5       , 0.75      , 1.        , 0.8       ,\n",
       "        0.66666667, 0.57142857, 0.5       , 0.44444444, 0.4       ,\n",
       "        0.36363636, 0.33333333, 0.30769231, 0.28571429, 0.26666667,\n",
       "        0.25      , 0.23529412, 0.22222222, 0.21052632, 0.2       ],\n",
       "       [0.2       , 0.4       , 0.6       , 0.8       , 1.        ,\n",
       "        0.83333333, 0.71428571, 0.625     , 0.55555556, 0.5       ,\n",
       "        0.45454545, 0.41666667, 0.38461538, 0.35714286, 0.33333333,\n",
       "        0.3125    , 0.29411765, 0.27777778, 0.26315789, 0.25      ],\n",
       "       [0.16666667, 0.33333333, 0.5       , 0.66666667, 0.83333333,\n",
       "        1.        , 0.85714286, 0.75      , 0.66666667, 0.6       ,\n",
       "        0.54545455, 0.5       , 0.46153846, 0.42857143, 0.4       ,\n",
       "        0.375     , 0.35294118, 0.33333333, 0.31578947, 0.3       ],\n",
       "       [0.14285714, 0.28571429, 0.42857143, 0.57142857, 0.71428571,\n",
       "        0.85714286, 1.        , 0.875     , 0.77777778, 0.7       ,\n",
       "        0.63636364, 0.58333333, 0.53846154, 0.5       , 0.46666667,\n",
       "        0.4375    , 0.41176471, 0.38888889, 0.36842105, 0.35      ],\n",
       "       [0.125     , 0.25      , 0.375     , 0.5       , 0.625     ,\n",
       "        0.75      , 0.875     , 1.        , 0.88888889, 0.8       ,\n",
       "        0.72727273, 0.66666667, 0.61538462, 0.57142857, 0.53333333,\n",
       "        0.5       , 0.47058824, 0.44444444, 0.42105263, 0.4       ],\n",
       "       [0.11111111, 0.22222222, 0.33333333, 0.44444444, 0.55555556,\n",
       "        0.66666667, 0.77777778, 0.88888889, 1.        , 0.9       ,\n",
       "        0.81818182, 0.75      , 0.69230769, 0.64285714, 0.6       ,\n",
       "        0.5625    , 0.52941176, 0.5       , 0.47368421, 0.45      ],\n",
       "       [0.1       , 0.2       , 0.3       , 0.4       , 0.5       ,\n",
       "        0.6       , 0.7       , 0.8       , 0.9       , 1.        ,\n",
       "        0.90909091, 0.83333333, 0.76923077, 0.71428571, 0.66666667,\n",
       "        0.625     , 0.58823529, 0.55555556, 0.52631579, 0.5       ],\n",
       "       [0.09090909, 0.18181818, 0.27272727, 0.36363636, 0.45454545,\n",
       "        0.54545455, 0.63636364, 0.72727273, 0.81818182, 0.90909091,\n",
       "        1.        , 0.91666667, 0.84615385, 0.78571429, 0.73333333,\n",
       "        0.6875    , 0.64705882, 0.61111111, 0.57894737, 0.55      ],\n",
       "       [0.08333333, 0.16666667, 0.25      , 0.33333333, 0.41666667,\n",
       "        0.5       , 0.58333333, 0.66666667, 0.75      , 0.83333333,\n",
       "        0.91666667, 1.        , 0.92307692, 0.85714286, 0.8       ,\n",
       "        0.75      , 0.70588235, 0.66666667, 0.63157895, 0.6       ],\n",
       "       [0.07692308, 0.15384615, 0.23076923, 0.30769231, 0.38461538,\n",
       "        0.46153846, 0.53846154, 0.61538462, 0.69230769, 0.76923077,\n",
       "        0.84615385, 0.92307692, 1.        , 0.92857143, 0.86666667,\n",
       "        0.8125    , 0.76470588, 0.72222222, 0.68421053, 0.65      ],\n",
       "       [0.07142857, 0.14285714, 0.21428571, 0.28571429, 0.35714286,\n",
       "        0.42857143, 0.5       , 0.57142857, 0.64285714, 0.71428571,\n",
       "        0.78571429, 0.85714286, 0.92857143, 1.        , 0.93333333,\n",
       "        0.875     , 0.82352941, 0.77777778, 0.73684211, 0.7       ],\n",
       "       [0.06666667, 0.13333333, 0.2       , 0.26666667, 0.33333333,\n",
       "        0.4       , 0.46666667, 0.53333333, 0.6       , 0.66666667,\n",
       "        0.73333333, 0.8       , 0.86666667, 0.93333333, 1.        ,\n",
       "        0.9375    , 0.88235294, 0.83333333, 0.78947368, 0.75      ],\n",
       "       [0.0625    , 0.125     , 0.1875    , 0.25      , 0.3125    ,\n",
       "        0.375     , 0.4375    , 0.5       , 0.5625    , 0.625     ,\n",
       "        0.6875    , 0.75      , 0.8125    , 0.875     , 0.9375    ,\n",
       "        1.        , 0.94117647, 0.88888889, 0.84210526, 0.8       ],\n",
       "       [0.05882353, 0.11764706, 0.17647059, 0.23529412, 0.29411765,\n",
       "        0.35294118, 0.41176471, 0.47058824, 0.52941176, 0.58823529,\n",
       "        0.64705882, 0.70588235, 0.76470588, 0.82352941, 0.88235294,\n",
       "        0.94117647, 1.        , 0.94444444, 0.89473684, 0.85      ],\n",
       "       [0.05555556, 0.11111111, 0.16666667, 0.22222222, 0.27777778,\n",
       "        0.33333333, 0.38888889, 0.44444444, 0.5       , 0.55555556,\n",
       "        0.61111111, 0.66666667, 0.72222222, 0.77777778, 0.83333333,\n",
       "        0.88888889, 0.94444444, 1.        , 0.94736842, 0.9       ],\n",
       "       [0.05263158, 0.10526316, 0.15789474, 0.21052632, 0.26315789,\n",
       "        0.31578947, 0.36842105, 0.42105263, 0.47368421, 0.52631579,\n",
       "        0.57894737, 0.63157895, 0.68421053, 0.73684211, 0.78947368,\n",
       "        0.84210526, 0.89473684, 0.94736842, 1.        , 0.95      ],\n",
       "       [0.05      , 0.1       , 0.15      , 0.2       , 0.25      ,\n",
       "        0.3       , 0.35      , 0.4       , 0.45      , 0.5       ,\n",
       "        0.55      , 0.6       , 0.65      , 0.7       , 0.75      ,\n",
       "        0.8       , 0.85      , 0.9       , 0.95      , 1.        ]])"
      ]
     },
     "execution_count": 7,
     "metadata": {},
     "output_type": "execute_result"
    }
   ],
   "source": [
    "# Doing it on 20X20 matrix\n",
    "A = np.zeros((20,20))\n",
    "for i in range(0,20):\n",
    "    for j in range(0,20):\n",
    "        if (j+1)>(i+1):\n",
    "            A[i,j] = (i+1)/(j+1)\n",
    "        else:\n",
    "            A[i,j] = (j+1)/(i+1)\n",
    "A"
   ]
  },
  {
   "cell_type": "code",
   "execution_count": 8,
   "id": "afd0edf5",
   "metadata": {},
   "outputs": [],
   "source": [
    "# Thereby the matrix is symmetric"
   ]
  },
  {
   "cell_type": "markdown",
   "id": "e35d309e",
   "metadata": {},
   "source": [
    "## Question 4 :\n",
    "Going back to the Lehmer matrix problem.\n",
    "Calculate the inverse of A and assign it to C.\n",
    "Assign [1 2 3 4 5 6 7 8 9 10 10 9 8 7 6 5 4 3 2 1] to d.\n",
    "Solve for x in the equation Ax = Cd\n",
    "What is x10 ? Round to 1 decimal place.  Be careful if the answer you get is in scientific notation."
   ]
  },
  {
   "cell_type": "code",
   "execution_count": 10,
   "id": "89719b80",
   "metadata": {},
   "outputs": [],
   "source": [
    "iden = np.identity(20)\n",
    "C = np.linalg.solve(A,iden)"
   ]
  },
  {
   "cell_type": "code",
   "execution_count": 11,
   "id": "d419bc8d",
   "metadata": {},
   "outputs": [
    {
     "data": {
      "text/plain": [
       "array([-7.40148683e-16, -6.15803704e-15, -2.43614652e-15,  3.29330919e-14,\n",
       "       -1.12682030e-13,  1.95796759e-13, -9.11225511e-14, -8.71599089e-14,\n",
       "       -2.48120301e+01,  2.00642393e+01,  3.58137507e+01, -3.00626280e+01,\n",
       "       -3.73699570e-04, -2.77204399e-04, -2.09968769e-04, -1.61954094e-04,\n",
       "       -1.26922824e-04, -1.00877940e-04,  9.50593309e+01, -1.00062903e+02])"
      ]
     },
     "execution_count": 11,
     "metadata": {},
     "output_type": "execute_result"
    }
   ],
   "source": [
    "d = np.array([1,2,3,4,5,6,7,8,9,10,10,9,8,7,6,5,4,3,2,1])\n",
    "z = np.matmul(C,d)\n",
    "x = np.linalg.solve(A,z)\n",
    "x"
   ]
  },
  {
   "cell_type": "code",
   "execution_count": 13,
   "id": "989b75d2",
   "metadata": {},
   "outputs": [],
   "source": [
    "# x10 rounded to 1 decimal point is 20.1"
   ]
  }
 ],
 "metadata": {
  "kernelspec": {
   "display_name": "Python 3",
   "language": "python",
   "name": "python3"
  },
  "language_info": {
   "codemirror_mode": {
    "name": "ipython",
    "version": 3
   },
   "file_extension": ".py",
   "mimetype": "text/x-python",
   "name": "python",
   "nbconvert_exporter": "python",
   "pygments_lexer": "ipython3",
   "version": "3.9.5"
  }
 },
 "nbformat": 4,
 "nbformat_minor": 5
}
