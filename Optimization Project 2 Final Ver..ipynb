{
 "cells": [
  {
   "cell_type": "code",
   "execution_count": 159,
   "id": "1630d51e",
   "metadata": {},
   "outputs": [],
   "source": [
    "import numpy as np\n",
    "import pandas as pd\n",
    "import gurobipy as gp\n",
    "import math"
   ]
  },
  {
   "cell_type": "code",
   "execution_count": 160,
   "id": "7df86503",
   "metadata": {},
   "outputs": [],
   "source": [
    "df_19=pd.read_csv('stocks2019.csv')\n",
    "df_20=pd.read_csv('stocks2020.csv')"
   ]
  },
  {
   "cell_type": "code",
   "execution_count": 161,
   "id": "125a643a",
   "metadata": {},
   "outputs": [],
   "source": [
    "column_names = df_19.columns[1:]\n",
    "\n",
    "i = 0\n",
    "j = 0\n",
    "returns_total = []\n",
    "returns = []\n",
    "returns_total20 = []\n",
    "returns2 = []\n",
    "while i < len(column_names):\n",
    "    returns = []\n",
    "    j = 0\n",
    "    while j < len(df_19):\n",
    "        if j == 0:\n",
    "            returns.append(0)\n",
    "            j += 1\n",
    "        else:\n",
    "            returns.append((df_19[column_names[i]][j] - df_19[column_names[i]][j - 1])/df_19[column_names[i]][j - 1])\n",
    "            j += 1\n",
    "    returns_total.append(returns)\n",
    "    i += 1\n",
    "\n",
    "i = 0\n",
    "j = 0\n",
    "while i < len(column_names):\n",
    "    returns2 = []\n",
    "    j = 0\n",
    "    while j < len(df_20):\n",
    "        if j == 0:\n",
    "            returns2.append(0)\n",
    "            j += 1\n",
    "        else:\n",
    "            returns2.append((df_20[column_names[i]][j] - df_20[column_names[i]][j - 1])/df_20[column_names[i]][j - 1])\n",
    "            j += 1\n",
    "    returns_total20.append(returns2)\n",
    "    i += 1"
   ]
  },
  {
   "cell_type": "code",
   "execution_count": 162,
   "id": "9cd3f389",
   "metadata": {},
   "outputs": [],
   "source": [
    "df_19_returns = pd.DataFrame()\n",
    "df_20_returns = pd.DataFrame()\n",
    "\n",
    "i = 0\n",
    "while i < len(column_names):\n",
    "    df_19_returns[column_names[i]] = returns_total[i]\n",
    "    df_20_returns[column_names[i]] = returns_total20[i]\n",
    "    i += 1"
   ]
  },
  {
   "cell_type": "code",
   "execution_count": 163,
   "id": "2a17658f",
   "metadata": {},
   "outputs": [],
   "source": [
    "df_19_clean = df_19_returns.copy()\n",
    "df_20_clean = df_20_returns.copy()\n",
    "NDX = list(df_19_clean['NDX'])\n",
    "NDX20 = list(df_20_clean['NDX'])\n",
    "df_19_clean = df_19_clean.loc[1:]\n",
    "df_20_clean = df_20_clean.loc[1:]\n",
    "NDX = NDX[1:]"
   ]
  },
  {
   "cell_type": "markdown",
   "id": "7bcfe275",
   "metadata": {},
   "source": [
    "# Part 1, Select Stock"
   ]
  },
  {
   "cell_type": "code",
   "execution_count": 164,
   "id": "b97f68ea",
   "metadata": {},
   "outputs": [],
   "source": [
    "df_19_clean = df_19_clean.drop(columns = 'NDX')\n",
    "df_20_clean = df_20_clean.drop(columns = 'NDX')"
   ]
  },
  {
   "cell_type": "code",
   "execution_count": 165,
   "id": "ebfec865",
   "metadata": {},
   "outputs": [],
   "source": [
    "cor19=np.corrcoef(df_19_clean, rowvar=False) \n",
    "cor20=np.corrcoef(df_20_clean, rowvar=False)"
   ]
  },
  {
   "cell_type": "code",
   "execution_count": 166,
   "id": "6848e86b",
   "metadata": {},
   "outputs": [],
   "source": [
    "df_cor_19 = pd.DataFrame(cor19)\n",
    "df_cor_20 = pd.DataFrame(cor20)"
   ]
  },
  {
   "cell_type": "code",
   "execution_count": 167,
   "id": "51ad76bd",
   "metadata": {},
   "outputs": [],
   "source": [
    "m = 5\n",
    "n = len(cor19)"
   ]
  },
  {
   "cell_type": "code",
   "execution_count": 168,
   "id": "9d5ecb5e",
   "metadata": {},
   "outputs": [],
   "source": [
    "A = np.zeros((n*n + n + 1, n * n + n))"
   ]
  },
  {
   "cell_type": "code",
   "execution_count": 169,
   "id": "cb5fc8cc",
   "metadata": {},
   "outputs": [],
   "source": [
    "sense = ['']* (A.shape[0])\n",
    "b = np.zeros(A.shape[0]) "
   ]
  },
  {
   "cell_type": "code",
   "execution_count": 170,
   "id": "eb79b5c4",
   "metadata": {},
   "outputs": [],
   "source": [
    "#For all X in the index, only maps to one of the stock in Fund. \n",
    "#So, for each X, there is one and only one i that Xij can map to Yj. 100 * 100 = 10000 constraints.\n",
    "for i in range(n):\n",
    "    for j in range(n):\n",
    "        A[i,n*i + j] = 1\n",
    "    sense[i] = '='\n",
    "    b[i] = 1"
   ]
  },
  {
   "cell_type": "code",
   "execution_count": 171,
   "id": "78f44db6",
   "metadata": {},
   "outputs": [],
   "source": [
    "#For all Xij, Xij < Yj, since 100 Y, 100 constraints.\n",
    "for i in range(n):\n",
    "    for j in range(n):\n",
    "        A[i*n + j + n, i*n + j] = 1\n",
    "        A[i*n + j + n, j + n**2] = -1\n",
    "        sense[i*n + j + n] = '<'\n",
    "        b[i*n + j + n] = 0"
   ]
  },
  {
   "cell_type": "code",
   "execution_count": 172,
   "id": "d702081f",
   "metadata": {},
   "outputs": [],
   "source": [
    "#Y sum up to be m.\n",
    "for j in range(n):\n",
    "    A[n**2 + n, n**2 + j ] = 1\n",
    "sense[n**2 + n] = '='\n",
    "b[n**2 + n] = m"
   ]
  },
  {
   "cell_type": "code",
   "execution_count": 173,
   "id": "2f3b901b",
   "metadata": {},
   "outputs": [
    {
     "data": {
      "text/plain": [
       "array([1.        , 0.39993857, 0.36537639, ..., 0.        , 0.        ,\n",
       "       0.        ])"
      ]
     },
     "execution_count": 173,
     "metadata": {},
     "output_type": "execute_result"
    }
   ],
   "source": [
    "obj = np.hstack((np.ndarray.flatten(cor19),np.array([0]*n)))\n",
    "obj"
   ]
  },
  {
   "cell_type": "code",
   "execution_count": 174,
   "id": "39eb7ccf",
   "metadata": {},
   "outputs": [],
   "source": [
    "var_type = np.array(['B']*(n*n + n))"
   ]
  },
  {
   "cell_type": "code",
   "execution_count": 175,
   "id": "5faebd3b",
   "metadata": {},
   "outputs": [],
   "source": [
    "npvMod = gp.Model()\n",
    "npvMod_x = npvMod.addMVar(len(obj),vtype=var_type) # 'C' or 'I' or 'B'\n",
    "npvMod_con = npvMod.addMConstrs(A, npvMod_x, list(sense), b)\n",
    "npvMod.setMObjective(None,obj,0,sense=gp.GRB.MAXIMIZE)\n",
    "\n",
    "npvMod.Params.OutputFlag = 0 # tell gurobi to shut up!!\n",
    "npvMod.optimize()"
   ]
  },
  {
   "cell_type": "code",
   "execution_count": 176,
   "id": "322e69d7",
   "metadata": {},
   "outputs": [
    {
     "data": {
      "text/plain": [
       "54.83990652229107"
      ]
     },
     "execution_count": 176,
     "metadata": {},
     "output_type": "execute_result"
    }
   ],
   "source": [
    "npvMod.objVal"
   ]
  },
  {
   "cell_type": "code",
   "execution_count": 177,
   "id": "9555090d",
   "metadata": {},
   "outputs": [],
   "source": [
    "selected = []\n",
    "q = 0\n",
    "for i in npvMod_x.x[n*n:]:\n",
    "    if i == 1:\n",
    "        selected.append(q)\n",
    "        q += 1\n",
    "        \n",
    "    else:\n",
    "        q += 1"
   ]
  },
  {
   "cell_type": "code",
   "execution_count": 178,
   "id": "e44b648e",
   "metadata": {},
   "outputs": [],
   "source": [
    "column_names = column_names[1:]"
   ]
  },
  {
   "cell_type": "code",
   "execution_count": 179,
   "id": "4d72f512",
   "metadata": {},
   "outputs": [
    {
     "data": {
      "text/plain": [
       "['LBTYK', 'MXIM', 'MSFT', 'VRTX', 'XEL']"
      ]
     },
     "execution_count": 179,
     "metadata": {},
     "output_type": "execute_result"
    }
   ],
   "source": [
    "[column_names[i] for i in selected] #Selected stocks"
   ]
  },
  {
   "cell_type": "markdown",
   "id": "b7a0802d",
   "metadata": {},
   "source": [
    "# Part 2, Assign Weight and Compare"
   ]
  },
  {
   "cell_type": "code",
   "execution_count": 180,
   "id": "210962c0",
   "metadata": {},
   "outputs": [],
   "source": [
    "#250 return data per stock\n",
    "N = df_19_clean.shape[0]"
   ]
  },
  {
   "cell_type": "code",
   "execution_count": 181,
   "id": "74ad35c5",
   "metadata": {},
   "outputs": [],
   "source": [
    "df_19_ar = np.array(df_19_clean)"
   ]
  },
  {
   "cell_type": "code",
   "execution_count": 182,
   "id": "c9e80bc8",
   "metadata": {},
   "outputs": [],
   "source": [
    "m = 5\n",
    "A=np.zeros((N * 2 + 1 , N + m)) #250 + 250 + 1 constrains, for Y > |X - 1|, and X sum up to 1.\n",
    "sense=np.array(['']*A.shape[0])\n",
    "b=np.zeros((A.shape[0])) "
   ]
  },
  {
   "cell_type": "code",
   "execution_count": 183,
   "id": "3e0a4c30",
   "metadata": {},
   "outputs": [],
   "source": [
    "for i in range(N):\n",
    "    for j in range(m):\n",
    "        #0:5, weight of the chosen stocks\n",
    "        A[i * 2, j] = df_19_ar[i, selected[j]]\n",
    "        A[i * 2 + 1, j] = df_19_ar[i, selected[j]]\n",
    "    # Y > X - R\n",
    "    A[i * 2, i + m] = -1\n",
    "    sense[i * 2] = '<'\n",
    "    b[i * 2] = NDX[i]\n",
    "    # Y > R - X\n",
    "    A[i * 2 + 1, i + m] = 1\n",
    "    sense[i * 2 + 1] = '>'\n",
    "    b[i * 2 + 1] = NDX[i]\n",
    "\n",
    "#Sum of weight = 1\n",
    "for i in range(m):\n",
    "    A[N*2, i] = 1\n",
    "    \n",
    "b[N*2] = 1\n",
    "sense[N*2] = '='\n",
    "\n",
    "# Objective to minimize\n",
    "\n",
    "obj = np.hstack((np.zeros((m)),np.array([1]*N)))"
   ]
  },
  {
   "cell_type": "code",
   "execution_count": 184,
   "id": "127fcfd2",
   "metadata": {},
   "outputs": [
    {
     "data": {
      "text/plain": [
       "0.7891782824631451"
      ]
     },
     "execution_count": 184,
     "metadata": {},
     "output_type": "execute_result"
    }
   ],
   "source": [
    "npvMod = gp.Model()\n",
    "npvMod_x = npvMod.addMVar(len(obj))\n",
    "npvMod_con = npvMod.addMConstrs(A, npvMod_x, sense, b)\n",
    "npvMod.setMObjective(None,obj,0,sense=gp.GRB.MINIMIZE)\n",
    "\n",
    "npvMod.Params.OutputFlag = 0 # tell gurobi to shut up!!\n",
    "npvMod.Params.TimeLimit = 100\n",
    "npvMod.optimize()\n",
    "    \n",
    "npvMod.objVal"
   ]
  },
  {
   "cell_type": "code",
   "execution_count": 185,
   "id": "874d809a",
   "metadata": {},
   "outputs": [],
   "source": [
    "df_5_result = pd.DataFrame()\n",
    "df_5_result['Stock'] = [column_names[i] for i in selected]\n",
    "df_5_result['Weights'] = npvMod_x.x[:m]"
   ]
  },
  {
   "cell_type": "code",
   "execution_count": 186,
   "id": "5bf43b03",
   "metadata": {},
   "outputs": [],
   "source": [
    "df_20_returns_1 = df_20_returns.copy()\n",
    "df_20_returns_1 = df_20_returns_1.drop(columns = 'NDX')\n",
    "df_20_returns_1 = df_20_returns_1.loc[1:]\n",
    "NDX20_1 = NDX20[1:]"
   ]
  },
  {
   "cell_type": "code",
   "execution_count": 187,
   "id": "fc22aecd",
   "metadata": {},
   "outputs": [],
   "source": [
    "q = 0\n",
    "df_20_returns_weights_1 = df_20_returns_1.copy()\n",
    "\n",
    "for i in df_20_returns_weights_1.columns:\n",
    "    if i == df_5_result.loc[q]['Stock']:\n",
    "        df_20_returns_weights_1[i] = df_20_returns_weights_1[i] * df_5_result.loc[q]['Weights']\n",
    "        if q <4 :\n",
    "            q += 1\n",
    "    \n",
    "    else:\n",
    "        df_20_returns_weights_1[i] = df_20_returns_weights_1[i] * 0\n",
    "    \n",
    "j = 1\n",
    "h = 0\n",
    "while j - 1 < len(df_20_returns_weights_1):\n",
    "    h += abs(sum(df_20_returns_weights_1.loc[j]) - NDX20_1[j - 1])\n",
    "    j += 1"
   ]
  },
  {
   "cell_type": "code",
   "execution_count": 188,
   "id": "fe3f467e",
   "metadata": {},
   "outputs": [
    {
     "data": {
      "text/html": [
       "<div>\n",
       "<style scoped>\n",
       "    .dataframe tbody tr th:only-of-type {\n",
       "        vertical-align: middle;\n",
       "    }\n",
       "\n",
       "    .dataframe tbody tr th {\n",
       "        vertical-align: top;\n",
       "    }\n",
       "\n",
       "    .dataframe thead th {\n",
       "        text-align: right;\n",
       "    }\n",
       "</style>\n",
       "<table border=\"1\" class=\"dataframe\">\n",
       "  <thead>\n",
       "    <tr style=\"text-align: right;\">\n",
       "      <th></th>\n",
       "      <th>Stock</th>\n",
       "      <th>Weights</th>\n",
       "    </tr>\n",
       "  </thead>\n",
       "  <tbody>\n",
       "    <tr>\n",
       "      <th>0</th>\n",
       "      <td>LBTYK</td>\n",
       "      <td>0.048862</td>\n",
       "    </tr>\n",
       "    <tr>\n",
       "      <th>1</th>\n",
       "      <td>MXIM</td>\n",
       "      <td>0.210388</td>\n",
       "    </tr>\n",
       "    <tr>\n",
       "      <th>2</th>\n",
       "      <td>MSFT</td>\n",
       "      <td>0.580352</td>\n",
       "    </tr>\n",
       "    <tr>\n",
       "      <th>3</th>\n",
       "      <td>VRTX</td>\n",
       "      <td>0.071190</td>\n",
       "    </tr>\n",
       "    <tr>\n",
       "      <th>4</th>\n",
       "      <td>XEL</td>\n",
       "      <td>0.089208</td>\n",
       "    </tr>\n",
       "  </tbody>\n",
       "</table>\n",
       "</div>"
      ],
      "text/plain": [
       "   Stock   Weights\n",
       "0  LBTYK  0.048862\n",
       "1   MXIM  0.210388\n",
       "2   MSFT  0.580352\n",
       "3   VRTX  0.071190\n",
       "4    XEL  0.089208"
      ]
     },
     "execution_count": 188,
     "metadata": {},
     "output_type": "execute_result"
    }
   ],
   "source": [
    "df_5_result"
   ]
  },
  {
   "cell_type": "code",
   "execution_count": 189,
   "id": "9c68d893",
   "metadata": {},
   "outputs": [
    {
     "name": "stdout",
     "output_type": "stream",
     "text": [
      "The performance of 2019, m = 5 is: \n"
     ]
    },
    {
     "data": {
      "text/plain": [
       "0.7891782824631451"
      ]
     },
     "execution_count": 189,
     "metadata": {},
     "output_type": "execute_result"
    }
   ],
   "source": [
    "print('The performance of 2019, m = 5 is: ')\n",
    "npvMod.objVal"
   ]
  },
  {
   "cell_type": "code",
   "execution_count": 190,
   "id": "0ae3bf3a",
   "metadata": {},
   "outputs": [
    {
     "name": "stdout",
     "output_type": "stream",
     "text": [
      "The performance of 2020, m = 5 is: \n"
     ]
    },
    {
     "data": {
      "text/plain": [
       "1.112437345507646"
      ]
     },
     "execution_count": 190,
     "metadata": {},
     "output_type": "execute_result"
    }
   ],
   "source": [
    "print('The performance of 2020, m = 5 is: ')\n",
    "h"
   ]
  },
  {
   "cell_type": "markdown",
   "id": "86db218f",
   "metadata": {},
   "source": [
    "# Part 3, Put into Loop for m = 10, m = 20... m = 100"
   ]
  },
  {
   "cell_type": "code",
   "execution_count": 191,
   "id": "479fd52b",
   "metadata": {},
   "outputs": [],
   "source": [
    "total_selected = []\n",
    "total_weights = []\n",
    "result_19 = []"
   ]
  },
  {
   "cell_type": "code",
   "execution_count": 192,
   "id": "5bdac63c",
   "metadata": {},
   "outputs": [],
   "source": [
    "#For all Xi, Xi - Yi <= 0.\n",
    "m_lst = []\n",
    "\n",
    "Z = df_19_clean.shape[1]\n",
    "u = 1\n",
    "\n",
    "while Z >= 10:\n",
    "    if u < 11:\n",
    "        m_lst.append(10*u)\n",
    "        u += 1\n",
    "        Z -= 10\n",
    "        \n",
    "    else:\n",
    "        Z -= 10\n",
    "\n",
    "for m in m_lst:\n",
    "    selected = []\n",
    "    m = m\n",
    "    n = len(cor19)\n",
    "    A = np.zeros((n*n + n + 1 , n*n + n))\n",
    "    sense = ['']*(n*n+n+1)\n",
    "    b = np.zeros(n*n+n+1) \n",
    "    \n",
    "    #For all X in the index, only maps to one of the stock in Fund. \n",
    "    #So, for each X, there is one and only one i that Xij can map to Yj. 100 * 100 = 10000 constraints.\n",
    "    for i in range(n):\n",
    "        for j in range(n):\n",
    "            A[i,n*i + j] = 1\n",
    "            \n",
    "        sense[i] = '='\n",
    "        b[i] = 1\n",
    "        \n",
    "    #For all Xij, Xij < Yj, since 100 Y, 100 constraints.\n",
    "    for i in range(n):\n",
    "        for j in range(n):\n",
    "            A[i*n + j + n, i*n + j] = 1\n",
    "            A[i*n + j + n, j + n**2] = -1\n",
    "            \n",
    "            sense[i*n + j + n] = '<'\n",
    "            b[i*n + j + n] = 0\n",
    "            \n",
    "    #Y sum up to be m.\n",
    "    for j in range(n):\n",
    "        A[n**2 + n, n**2 + j ] = 1\n",
    "        \n",
    "    sense[n**2 + n] = '='\n",
    "    b[n**2 + n] = m\n",
    "    \n",
    "    obj = np.hstack((np.ndarray.flatten(cor19),np.array([0]*n)))\n",
    "    \n",
    "    var_type = np.array(['B']*(n*n+n))\n",
    "    \n",
    "    npvMod = gp.Model()\n",
    "    npvMod_x = npvMod.addMVar(len(obj),vtype=var_type) # 'C' or 'I' or 'B'\n",
    "    npvMod_con = npvMod.addMConstrs(A, npvMod_x, list(sense), b)\n",
    "    npvMod.setMObjective(None,obj,0,sense=gp.GRB.MAXIMIZE)\n",
    "\n",
    "    npvMod.Params.OutputFlag = 0 # tell gurobi to shut up!!\n",
    "    npvMod.optimize()\n",
    "    \n",
    "    q = 0\n",
    "    for i in npvMod_x.x[n*n:]:\n",
    "        if i == 1:\n",
    "            selected.append(q)\n",
    "            q += 1\n",
    "        \n",
    "        else:\n",
    "            q += 1\n",
    "    \n",
    "    total_selected.append(selected)"
   ]
  },
  {
   "cell_type": "code",
   "execution_count": 193,
   "id": "d96082a3",
   "metadata": {},
   "outputs": [],
   "source": [
    "g = 0\n",
    "for m in m_lst:\n",
    "    m = m\n",
    "    A=np.zeros((N * 2 + 1 , N + m)) #250 + 250 + 1 constrains, for Y > |X - 1|, and X sum up to 1.\n",
    "    sense=np.array(['']*A.shape[0])\n",
    "    b=np.zeros((A.shape[0]))\n",
    "    \n",
    "    for i in range(N):\n",
    "        for j in range(m):\n",
    "        #weight of the chosen stocks\n",
    "            A[i * 2, j] = df_19_ar[i, total_selected[g][j]]\n",
    "            A[i * 2 + 1, j] = df_19_ar[i, total_selected[g][j]]\n",
    "        # Y > X - R\n",
    "        A[i * 2, i + m] = -1\n",
    "        sense[i * 2] = '<'\n",
    "        b[i * 2] = NDX[i]\n",
    "        # Y > R - X\n",
    "        A[i * 2 + 1, i + m] = 1\n",
    "        sense[i * 2 + 1] = '>'\n",
    "        b[i * 2 + 1] = NDX[i]\n",
    "\n",
    "    #Sum of weight = 1\n",
    "    for i in range(m):\n",
    "        A[N*2, i] = 1\n",
    "    \n",
    "    b[N*2] = 1\n",
    "    sense[N*2] = '='\n",
    "\n",
    "    # Objective to minimize\n",
    "\n",
    "    obj = np.hstack((np.zeros((m)),np.array([1]*N)))\n",
    "    \n",
    "    npvMod = gp.Model()\n",
    "    npvMod_x = npvMod.addMVar(len(obj))\n",
    "    npvMod_con = npvMod.addMConstrs(A, npvMod_x, sense, b)\n",
    "    npvMod.setMObjective(None,obj,0,sense=gp.GRB.MINIMIZE)\n",
    "\n",
    "    npvMod.Params.OutputFlag = 0 # tell gurobi to shut up!!\n",
    "    npvMod.Params.TimeLimit = 10\n",
    "    npvMod.optimize()\n",
    "    \n",
    "    g += 1\n",
    "    \n",
    "    result_19.append(npvMod.objVal)\n",
    "    total_weights.append(list(npvMod_x.x[:m]))"
   ]
  },
  {
   "cell_type": "code",
   "execution_count": 194,
   "id": "dcef6353",
   "metadata": {},
   "outputs": [],
   "source": [
    "total_diff_20 = []\n",
    "NDX20 = NDX20[1:]"
   ]
  },
  {
   "cell_type": "code",
   "execution_count": 195,
   "id": "a6e528f7",
   "metadata": {},
   "outputs": [],
   "source": [
    "df_20_weight = df_20_clean.copy()"
   ]
  },
  {
   "cell_type": "code",
   "execution_count": 196,
   "id": "7a3cf450",
   "metadata": {},
   "outputs": [],
   "source": [
    "df_20_weight_k = df_20_weight.copy()\n",
    "total_sum = []\n",
    "\n",
    "\n",
    "o = 0\n",
    "\n",
    "while o < len(total_weights):\n",
    "    df_20_weight_k = df_20_weight.copy()\n",
    "\n",
    "    for i in df_20_weight_k.columns:\n",
    "        if i not in [column_names[q] for q in total_selected[o]]:\n",
    "            df_20_weight_k = df_20_weight_k.drop(columns = i)\n",
    "\n",
    "    g = 0\n",
    "    for q in df_20_weight_k.columns:\n",
    "        df_20_weight_k[q] = df_20_weight_k[q] * total_weights[o][g]\n",
    "        g += 1\n",
    "\n",
    "    z = 0\n",
    "    s = 0\n",
    "    j = 1\n",
    "    #sum of one row\n",
    "    while j < len(df_20_weight_k):\n",
    "        s += abs(sum(df_20_weight_k.loc[j]) - NDX20[j - 1])\n",
    "        j += 1\n",
    "        \n",
    "    total_sum.append(s)\n",
    "    o += 1"
   ]
  },
  {
   "cell_type": "code",
   "execution_count": 197,
   "id": "ca4c7a55",
   "metadata": {},
   "outputs": [],
   "source": [
    "df_compare = pd.DataFrame()\n",
    "\n",
    "dfidx = []\n",
    "\n",
    "for y in m_lst:\n",
    "    dfidx.append('m = ' + str(y))"
   ]
  },
  {
   "cell_type": "code",
   "execution_count": 198,
   "id": "52c81268",
   "metadata": {},
   "outputs": [
    {
     "data": {
      "text/html": [
       "<div>\n",
       "<style scoped>\n",
       "    .dataframe tbody tr th:only-of-type {\n",
       "        vertical-align: middle;\n",
       "    }\n",
       "\n",
       "    .dataframe tbody tr th {\n",
       "        vertical-align: top;\n",
       "    }\n",
       "\n",
       "    .dataframe thead th {\n",
       "        text-align: right;\n",
       "    }\n",
       "</style>\n",
       "<table border=\"1\" class=\"dataframe\">\n",
       "  <thead>\n",
       "    <tr style=\"text-align: right;\">\n",
       "      <th></th>\n",
       "      <th>2019 Result</th>\n",
       "      <th>2020 Result</th>\n",
       "    </tr>\n",
       "  </thead>\n",
       "  <tbody>\n",
       "    <tr>\n",
       "      <th>m = 10</th>\n",
       "      <td>0.701218</td>\n",
       "      <td>1.100511</td>\n",
       "    </tr>\n",
       "    <tr>\n",
       "      <th>m = 20</th>\n",
       "      <td>0.466233</td>\n",
       "      <td>0.853540</td>\n",
       "    </tr>\n",
       "    <tr>\n",
       "      <th>m = 30</th>\n",
       "      <td>0.407021</td>\n",
       "      <td>0.755453</td>\n",
       "    </tr>\n",
       "    <tr>\n",
       "      <th>m = 40</th>\n",
       "      <td>0.363281</td>\n",
       "      <td>0.767318</td>\n",
       "    </tr>\n",
       "    <tr>\n",
       "      <th>m = 50</th>\n",
       "      <td>0.334010</td>\n",
       "      <td>0.772208</td>\n",
       "    </tr>\n",
       "    <tr>\n",
       "      <th>m = 60</th>\n",
       "      <td>0.343167</td>\n",
       "      <td>1.164219</td>\n",
       "    </tr>\n",
       "    <tr>\n",
       "      <th>m = 70</th>\n",
       "      <td>0.169113</td>\n",
       "      <td>0.538227</td>\n",
       "    </tr>\n",
       "    <tr>\n",
       "      <th>m = 80</th>\n",
       "      <td>0.148219</td>\n",
       "      <td>0.543650</td>\n",
       "    </tr>\n",
       "    <tr>\n",
       "      <th>m = 90</th>\n",
       "      <td>0.053779</td>\n",
       "      <td>0.364608</td>\n",
       "    </tr>\n",
       "    <tr>\n",
       "      <th>m = 100</th>\n",
       "      <td>0.044911</td>\n",
       "      <td>0.365480</td>\n",
       "    </tr>\n",
       "  </tbody>\n",
       "</table>\n",
       "</div>"
      ],
      "text/plain": [
       "         2019 Result  2020 Result\n",
       "m = 10      0.701218     1.100511\n",
       "m = 20      0.466233     0.853540\n",
       "m = 30      0.407021     0.755453\n",
       "m = 40      0.363281     0.767318\n",
       "m = 50      0.334010     0.772208\n",
       "m = 60      0.343167     1.164219\n",
       "m = 70      0.169113     0.538227\n",
       "m = 80      0.148219     0.543650\n",
       "m = 90      0.053779     0.364608\n",
       "m = 100     0.044911     0.365480"
      ]
     },
     "execution_count": 198,
     "metadata": {},
     "output_type": "execute_result"
    }
   ],
   "source": [
    "df_compare['2019 Result'] = result_19\n",
    "df_compare['2020 Result'] = total_sum\n",
    "df_compare.index = dfidx\n",
    "df_compare"
   ]
  },
  {
   "cell_type": "code",
   "execution_count": 199,
   "id": "a046d62c",
   "metadata": {},
   "outputs": [
    {
     "data": {
      "text/plain": [
       "<AxesSubplot:>"
      ]
     },
     "execution_count": 199,
     "metadata": {},
     "output_type": "execute_result"
    },
    {
     "data": {
      "image/png": "[encoded data removed]",
      "text/plain": [
       "<Figure size 432x288 with 1 Axes>"
      ]
     },
     "metadata": {
      "needs_background": "light"
     },
     "output_type": "display_data"
    }
   ],
   "source": [
    "df_compare.plot(kind = 'bar')"
   ]
  },
  {
   "cell_type": "markdown",
   "id": "006f9adb",
   "metadata": {},
   "source": [
    "# Using Method 2"
   ]
  },
  {
   "cell_type": "code",
   "execution_count": 200,
   "id": "3f56cae4",
   "metadata": {},
   "outputs": [],
   "source": [
    "import numpy as np\n",
    "import gurobipy as gp\n",
    "import pandas as pd\n",
    "import math\n",
    "\n",
    "def get_abs(x):\n",
    "    return abs(x)\n",
    "\n",
    "df_19 = pd.read_csv('stocks2019.csv')\n",
    "df_20 = pd.read_csv('stocks2020.csv')\n",
    "\n",
    "column_names = df_19.columns[1:]\n",
    "\n",
    "i = 0\n",
    "j = 0\n",
    "returns_total = []\n",
    "returns = []\n",
    "while i < len(column_names):\n",
    "    returns = []\n",
    "    j = 0\n",
    "    while j < len(df_19):\n",
    "        if j == 0:\n",
    "            returns.append(0)\n",
    "            j += 1\n",
    "        else:\n",
    "            returns.append((df_19[column_names[i]][j] - df_19[column_names[i]][j - 1])/df_19[column_names[i]][j - 1])\n",
    "            j += 1\n",
    "    returns_total.append(returns)\n",
    "    i += 1"
   ]
  },
  {
   "cell_type": "code",
   "execution_count": 201,
   "id": "687ee723",
   "metadata": {},
   "outputs": [],
   "source": [
    "i = 0\n",
    "j = 0\n",
    "returns_total20 = []\n",
    "returns2 = []\n",
    "while i < len(column_names):\n",
    "    returns2 = []\n",
    "    j = 0\n",
    "    while j < len(df_20):\n",
    "        if j == 0:\n",
    "            returns2.append(0)\n",
    "            j += 1\n",
    "        else:\n",
    "            returns2.append((df_20[column_names[i]][j] - df_20[column_names[i]][j - 1])/df_20[column_names[i]][j - 1])\n",
    "            j += 1\n",
    "    returns_total20.append(returns2)\n",
    "    i += 1"
   ]
  },
  {
   "cell_type": "code",
   "execution_count": 202,
   "id": "f625854a",
   "metadata": {},
   "outputs": [],
   "source": [
    "df_19_returns = pd.DataFrame()\n",
    "df_20_returns = pd.DataFrame()\n",
    "\n",
    "i = 0\n",
    "while i < len(column_names):\n",
    "    df_19_returns[column_names[i]] = returns_total[i]\n",
    "    df_20_returns[column_names[i]] = returns_total20[i]\n",
    "    i += 1"
   ]
  },
  {
   "cell_type": "code",
   "execution_count": 203,
   "id": "11a1643c",
   "metadata": {},
   "outputs": [],
   "source": [
    "df_19_clean = df_19_returns.copy()\n",
    "df_20_clean = df_20_returns.copy()\n",
    "\n",
    "NDX = list(df_19_clean['NDX'])\n",
    "df_19_clean = df_19_clean.drop(columns = 'NDX')\n",
    "df_19_clean = df_19_clean.loc[1:]\n",
    "NDX = NDX[1:]\n",
    "\n",
    "NDX20 = list(df_20_clean['NDX'])\n",
    "df_20_clean = df_20_clean.drop(columns = 'NDX')\n",
    "df_20_clean = df_20_clean.loc[1:]\n",
    "NDX20 = NDX20[1:]"
   ]
  },
  {
   "cell_type": "code",
   "execution_count": 204,
   "id": "7ab17105",
   "metadata": {},
   "outputs": [],
   "source": [
    "P = df_19_clean.shape[0]\n",
    "Q = df_19_clean.shape[1]"
   ]
  },
  {
   "cell_type": "code",
   "execution_count": 205,
   "id": "cb5f8885",
   "metadata": {},
   "outputs": [],
   "source": [
    "A = np.zeros((2 + 2 * P + Q,2*Q + P))\n",
    "solutions = []\n",
    "weights = []\n",
    "idx = []\n",
    "all_weights = []"
   ]
  },
  {
   "cell_type": "code",
   "execution_count": 206,
   "id": "aea4d500",
   "metadata": {},
   "outputs": [],
   "source": [
    "#For all Xi, Xi - Yi <= 0.\n",
    "m_lst = [5]\n",
    "\n",
    "Z = Q\n",
    "u = 1\n",
    "\n",
    "while Z >= 10:\n",
    "    if u < 11:\n",
    "        m_lst.append(10*u)\n",
    "        u += 1\n",
    "        Z -= 10\n",
    "        \n",
    "    else:\n",
    "        Z -= 10\n",
    "\n",
    "        \n",
    "for m in m_lst:\n",
    "    A = np.zeros((2 + 2 * P + Q, 2 * Q + P))\n",
    "    i = 0\n",
    "    j = Q\n",
    "    sense = []\n",
    "    b_list = []\n",
    "    while i < Q:\n",
    "        A[i,i] = 1\n",
    "        A[i,j] = -1\n",
    "        sense.append('<')\n",
    "        b_list.append(0)\n",
    "        i += 1\n",
    "        j += 1\n",
    "        \n",
    "    #for weight Xi, sum up equals 1. Which is, X0 +... + X99 = 1\n",
    "    A[Q, 0:Q] = (1)\n",
    "    b_list.append(1)\n",
    "    sense.append('=')\n",
    "    \n",
    "    #If we consider the weight\n",
    "    #Zi - (Xi *  Returni) > - Return NDX\n",
    "    #Zi + (Xi * Returni) > Return NDX\n",
    "    i = Q + 1\n",
    "    j = Q + Q\n",
    "    q = 0\n",
    "    while i < P + Q + 1:\n",
    "        A[i,0:Q] = list(-df_19_clean.loc[q+1])\n",
    "        A[i,j] = 1\n",
    "        b_list.append(-NDX[q])\n",
    "        sense.append('>')\n",
    "        i += 1\n",
    "        j += 1\n",
    "        q += 1\n",
    "        \n",
    "    i = P + Q + 1\n",
    "    j = 2 * Q\n",
    "    q = 0\n",
    "    while i < 2 * P + Q + 1:\n",
    "        A[i,0:Q] = list(df_19_clean.loc[q+1])\n",
    "        A[i,j] = 1\n",
    "        b_list.append(NDX[q])\n",
    "        sense.append('>')\n",
    "        i += 1\n",
    "        j += 1\n",
    "        q += 1\n",
    "    m = m #number of stocks to pick into fund\n",
    "    \n",
    "    #The number of stock picked is less than m. sum(yi) = m\n",
    "    A[2 * P + Q + 1,Q : 2*Q] = 1\n",
    "    b_list.append(m)\n",
    "    sense.append('=')\n",
    "    \n",
    "    b = np.array(b_list)\n",
    "    obj = np.array([0]* 2 * Q + [1] * P)\n",
    "    \n",
    "    npvMod = gp.Model()\n",
    "    npvMod_x = npvMod.addMVar(len(obj),vtype=['C'] * Q + ['B'] * Q + ['C'] * P) # 'C' or 'I' or 'B'\n",
    "    npvMod_con = npvMod.addMConstrs(A, npvMod_x, sense, b)\n",
    "    npvMod.setMObjective(None,obj,0,sense=gp.GRB.MINIMIZE)\n",
    "\n",
    "    npvMod.Params.OutputFlag = 0 # tell gurobi to shut up!!\n",
    "    npvMod.Params.TimeLimit = 3\n",
    "    npvMod.optimize()\n",
    "    \n",
    "    if m == 5:\n",
    "        count = 0\n",
    "        for i in npvMod_x.x[0:Q]:\n",
    "            if i != 0:\n",
    "                weights.append(i)\n",
    "                idx.append(count)\n",
    "                count += 1\n",
    "            else:\n",
    "                count += 1\n",
    "    \n",
    "    if m > 5:\n",
    "        weight = []\n",
    "        weight = list(npvMod_x.x[0:Q])\n",
    "        all_weights.append(weight)\n",
    "    \n",
    "    solutions.append(npvMod.objVal)"
   ]
  },
  {
   "cell_type": "code",
   "execution_count": 207,
   "id": "7003cfed",
   "metadata": {},
   "outputs": [],
   "source": [
    "column_names = column_names[1:]"
   ]
  },
  {
   "cell_type": "code",
   "execution_count": 208,
   "id": "67949110",
   "metadata": {},
   "outputs": [],
   "source": [
    "resultm5 = pd.DataFrame()\n",
    "resultm5['Stock'] = [column_names[i] for i in idx]\n",
    "resultm5['Weights'] = weights"
   ]
  },
  {
   "cell_type": "code",
   "execution_count": 209,
   "id": "c9fd6cda",
   "metadata": {},
   "outputs": [],
   "source": [
    "q = 0\n",
    "df_20_returns_weights_1 = df_20_clean.copy()\n",
    "\n",
    "for i in df_20_returns_weights_1.columns:\n",
    "    if i == resultm5.loc[q]['Stock']:\n",
    "        df_20_returns_weights_1[i] = df_20_returns_weights_1[i] * resultm5.loc[q]['Weights']\n",
    "        if q <4 :\n",
    "            q += 1\n",
    "    \n",
    "    else:\n",
    "        df_20_returns_weights_1[i] = df_20_returns_weights_1[i] * 0\n",
    "    \n",
    "j = 1\n",
    "h = 0\n",
    "while j - 1 < len(df_20_returns_weights_1):\n",
    "    h += abs(sum(df_20_returns_weights_1.loc[j]) - NDX20[j - 1])\n",
    "    j += 1"
   ]
  },
  {
   "cell_type": "code",
   "execution_count": 210,
   "id": "289e8e72",
   "metadata": {},
   "outputs": [
    {
     "data": {
      "text/html": [
       "<div>\n",
       "<style scoped>\n",
       "    .dataframe tbody tr th:only-of-type {\n",
       "        vertical-align: middle;\n",
       "    }\n",
       "\n",
       "    .dataframe tbody tr th {\n",
       "        vertical-align: top;\n",
       "    }\n",
       "\n",
       "    .dataframe thead th {\n",
       "        text-align: right;\n",
       "    }\n",
       "</style>\n",
       "<table border=\"1\" class=\"dataframe\">\n",
       "  <thead>\n",
       "    <tr style=\"text-align: right;\">\n",
       "      <th></th>\n",
       "      <th>Stock</th>\n",
       "      <th>Weights</th>\n",
       "    </tr>\n",
       "  </thead>\n",
       "  <tbody>\n",
       "    <tr>\n",
       "      <th>0</th>\n",
       "      <td>GOOG</td>\n",
       "      <td>0.167316</td>\n",
       "    </tr>\n",
       "    <tr>\n",
       "      <th>1</th>\n",
       "      <td>AMZN</td>\n",
       "      <td>0.189447</td>\n",
       "    </tr>\n",
       "    <tr>\n",
       "      <th>2</th>\n",
       "      <td>EBAY</td>\n",
       "      <td>0.120124</td>\n",
       "    </tr>\n",
       "    <tr>\n",
       "      <th>3</th>\n",
       "      <td>MSFT</td>\n",
       "      <td>0.439872</td>\n",
       "    </tr>\n",
       "    <tr>\n",
       "      <th>4</th>\n",
       "      <td>XLNX</td>\n",
       "      <td>0.083242</td>\n",
       "    </tr>\n",
       "  </tbody>\n",
       "</table>\n",
       "</div>"
      ],
      "text/plain": [
       "  Stock   Weights\n",
       "0  GOOG  0.167316\n",
       "1  AMZN  0.189447\n",
       "2  EBAY  0.120124\n",
       "3  MSFT  0.439872\n",
       "4  XLNX  0.083242"
      ]
     },
     "execution_count": 210,
     "metadata": {},
     "output_type": "execute_result"
    }
   ],
   "source": [
    "resultm5 #result of m = 5 with weights."
   ]
  },
  {
   "cell_type": "code",
   "execution_count": 211,
   "id": "d770fcfe",
   "metadata": {},
   "outputs": [
    {
     "data": {
      "text/plain": [
       "0.6598484913706243"
      ]
     },
     "execution_count": 211,
     "metadata": {},
     "output_type": "execute_result"
    }
   ],
   "source": [
    "solutions[0] #obj val of m = 5, 2019"
   ]
  },
  {
   "cell_type": "code",
   "execution_count": 212,
   "id": "c73af49f",
   "metadata": {},
   "outputs": [
    {
     "data": {
      "text/plain": [
       "1.0610062891884053"
      ]
     },
     "execution_count": 212,
     "metadata": {},
     "output_type": "execute_result"
    }
   ],
   "source": [
    "h #result for applying m = 5 's weight to 2020's return."
   ]
  },
  {
   "cell_type": "markdown",
   "id": "f4b6d74f",
   "metadata": {},
   "source": [
    "# Part 2, m > 5"
   ]
  },
  {
   "cell_type": "code",
   "execution_count": 213,
   "id": "5a1fc8cb",
   "metadata": {},
   "outputs": [],
   "source": [
    "total_difference = []"
   ]
  },
  {
   "cell_type": "code",
   "execution_count": 214,
   "id": "1c03d329",
   "metadata": {},
   "outputs": [],
   "source": [
    "df_20_weight = df_20_clean.copy()\n",
    "k = 0\n",
    "\n",
    "while k < len(all_weights):\n",
    "    df_20_weight = df_20_clean.copy()\n",
    "    i = 0\n",
    "    while i < len(column_names):\n",
    "        df_20_weight[column_names[i]] = df_20_weight[column_names[i]] * all_weights[k][i]\n",
    "        i += 1\n",
    "        \n",
    "    j = 1\n",
    "    h = 0\n",
    "    while j - 1 < len(df_20_weight):\n",
    "        h += abs(sum(df_20_weight.loc[j]) - NDX20[j - 1])\n",
    "        j += 1\n",
    "    total_difference.append(h)\n",
    "    k += 1"
   ]
  },
  {
   "cell_type": "code",
   "execution_count": 215,
   "id": "b4279381",
   "metadata": {},
   "outputs": [],
   "source": [
    "df_compare = pd.DataFrame()\n",
    "dfidx = []\n",
    "\n",
    "for y in m_lst:\n",
    "    if y != 5:\n",
    "        dfidx.append('m = ' + str(y))"
   ]
  },
  {
   "cell_type": "code",
   "execution_count": 216,
   "id": "deb88195",
   "metadata": {},
   "outputs": [
    {
     "data": {
      "text/html": [
       "<div>\n",
       "<style scoped>\n",
       "    .dataframe tbody tr th:only-of-type {\n",
       "        vertical-align: middle;\n",
       "    }\n",
       "\n",
       "    .dataframe tbody tr th {\n",
       "        vertical-align: top;\n",
       "    }\n",
       "\n",
       "    .dataframe thead th {\n",
       "        text-align: right;\n",
       "    }\n",
       "</style>\n",
       "<table border=\"1\" class=\"dataframe\">\n",
       "  <thead>\n",
       "    <tr style=\"text-align: right;\">\n",
       "      <th></th>\n",
       "      <th>2019 Result</th>\n",
       "      <th>2020 Result</th>\n",
       "    </tr>\n",
       "  </thead>\n",
       "  <tbody>\n",
       "    <tr>\n",
       "      <th>m = 10</th>\n",
       "      <td>0.585558</td>\n",
       "      <td>1.144500</td>\n",
       "    </tr>\n",
       "    <tr>\n",
       "      <th>m = 20</th>\n",
       "      <td>0.353306</td>\n",
       "      <td>0.618834</td>\n",
       "    </tr>\n",
       "    <tr>\n",
       "      <th>m = 30</th>\n",
       "      <td>0.309793</td>\n",
       "      <td>0.649708</td>\n",
       "    </tr>\n",
       "    <tr>\n",
       "      <th>m = 40</th>\n",
       "      <td>0.197147</td>\n",
       "      <td>0.518748</td>\n",
       "    </tr>\n",
       "    <tr>\n",
       "      <th>m = 50</th>\n",
       "      <td>0.149838</td>\n",
       "      <td>0.485251</td>\n",
       "    </tr>\n",
       "    <tr>\n",
       "      <th>m = 60</th>\n",
       "      <td>0.111882</td>\n",
       "      <td>0.427580</td>\n",
       "    </tr>\n",
       "    <tr>\n",
       "      <th>m = 70</th>\n",
       "      <td>0.082235</td>\n",
       "      <td>0.397145</td>\n",
       "    </tr>\n",
       "    <tr>\n",
       "      <th>m = 80</th>\n",
       "      <td>0.059058</td>\n",
       "      <td>0.394506</td>\n",
       "    </tr>\n",
       "    <tr>\n",
       "      <th>m = 90</th>\n",
       "      <td>0.050680</td>\n",
       "      <td>0.390103</td>\n",
       "    </tr>\n",
       "    <tr>\n",
       "      <th>m = 100</th>\n",
       "      <td>0.044911</td>\n",
       "      <td>0.368671</td>\n",
       "    </tr>\n",
       "  </tbody>\n",
       "</table>\n",
       "</div>"
      ],
      "text/plain": [
       "         2019 Result  2020 Result\n",
       "m = 10      0.585558     1.144500\n",
       "m = 20      0.353306     0.618834\n",
       "m = 30      0.309793     0.649708\n",
       "m = 40      0.197147     0.518748\n",
       "m = 50      0.149838     0.485251\n",
       "m = 60      0.111882     0.427580\n",
       "m = 70      0.082235     0.397145\n",
       "m = 80      0.059058     0.394506\n",
       "m = 90      0.050680     0.390103\n",
       "m = 100     0.044911     0.368671"
      ]
     },
     "execution_count": 216,
     "metadata": {},
     "output_type": "execute_result"
    }
   ],
   "source": [
    "df_compare['2019 Result'] = solutions[1:]\n",
    "df_compare['2020 Result'] = total_difference\n",
    "df_compare.index = dfidx\n",
    "df_compare"
   ]
  },
  {
   "cell_type": "code",
   "execution_count": 217,
   "id": "af27bfa0",
   "metadata": {},
   "outputs": [
    {
     "data": {
      "text/plain": [
       "<AxesSubplot:>"
      ]
     },
     "execution_count": 217,
     "metadata": {},
     "output_type": "execute_result"
    },
    {
     "data": {
      "image/png": "[encoded data removed]",
      "text/plain": [
       "<Figure size 432x288 with 1 Axes>"
      ]
     },
     "metadata": {
      "needs_background": "light"
     },
     "output_type": "display_data"
    }
   ],
   "source": [
    "df_compare.plot(kind = 'bar')"
   ]
  },
  {
   "cell_type": "markdown",
   "id": "275280a8",
   "metadata": {},
   "source": [
    "# Part 3, Recommendation"
   ]
  },
  {
   "cell_type": "code",
   "execution_count": 218,
   "id": "4ceb7c44",
   "metadata": {},
   "outputs": [],
   "source": [
    "i = 0\n",
    "c = 0\n",
    "q = []\n",
    "p = []\n",
    "while i < len(all_weights[5]):\n",
    "    if all_weights[5][i] > 0:\n",
    "        q.append(c)\n",
    "        p.append(all_weights[5][i])\n",
    "        c += 1\n",
    "        i += 1\n",
    "    else:\n",
    "        c += 1\n",
    "        i += 1"
   ]
  },
  {
   "cell_type": "code",
   "execution_count": 219,
   "id": "7214e768",
   "metadata": {},
   "outputs": [],
   "source": [
    "resultmm = pd.DataFrame()\n",
    "resultmm['Stock'] = [column_names[i] for i in q]\n",
    "resultmm['Weights'] = p\n",
    "resultmm.index = q"
   ]
  },
  {
   "cell_type": "code",
   "execution_count": 220,
   "id": "ca61c68c",
   "metadata": {},
   "outputs": [
    {
     "name": "stdout",
     "output_type": "stream",
     "text": [
      "['ATVI', 'ADBE', 'AMD', 'ALGN', 'GOOG', 'AMZN', 'AMGN', 'ADI', 'AAPL', 'ASML', 'ADSK', 'ADP', 'BIDU', 'BIIB', 'BMRN', 'BKNG', 'AVGO', 'CDNS', 'CDW', 'CERN', 'CHTR', 'CHKP', 'CTAS', 'CSCO', 'CTXS', 'CTSH', 'CMCSA', 'CPRT', 'COST', 'CSX', 'DLTR', 'EBAY', 'EXC', 'FB', 'GILD', 'ILMN', 'INTC', 'INTU', 'ISRG', 'JD', 'KLAC', 'KHC', 'LRCX', 'LULU', 'MSFT', 'NFLX', 'SIRI', 'TSLA', 'VRSN', 'VRTX', 'WBA', 'WDC', 'XLNX']\n"
     ]
    }
   ],
   "source": [
    "print(list(resultmm['Stock']))"
   ]
  },
  {
   "cell_type": "code",
   "execution_count": 221,
   "id": "b6f22e64",
   "metadata": {},
   "outputs": [
    {
     "data": {
      "text/html": [
       "<div>\n",
       "<style scoped>\n",
       "    .dataframe tbody tr th:only-of-type {\n",
       "        vertical-align: middle;\n",
       "    }\n",
       "\n",
       "    .dataframe tbody tr th {\n",
       "        vertical-align: top;\n",
       "    }\n",
       "\n",
       "    .dataframe thead th {\n",
       "        text-align: right;\n",
       "    }\n",
       "</style>\n",
       "<table border=\"1\" class=\"dataframe\">\n",
       "  <thead>\n",
       "    <tr style=\"text-align: right;\">\n",
       "      <th></th>\n",
       "      <th>Stock</th>\n",
       "      <th>Weights</th>\n",
       "    </tr>\n",
       "  </thead>\n",
       "  <tbody>\n",
       "    <tr>\n",
       "      <th>11</th>\n",
       "      <td>AAPL</td>\n",
       "      <td>0.104427</td>\n",
       "    </tr>\n",
       "    <tr>\n",
       "      <th>63</th>\n",
       "      <td>MSFT</td>\n",
       "      <td>0.101294</td>\n",
       "    </tr>\n",
       "    <tr>\n",
       "      <th>7</th>\n",
       "      <td>AMZN</td>\n",
       "      <td>0.099969</td>\n",
       "    </tr>\n",
       "    <tr>\n",
       "      <th>6</th>\n",
       "      <td>GOOG</td>\n",
       "      <td>0.086230</td>\n",
       "    </tr>\n",
       "    <tr>\n",
       "      <th>41</th>\n",
       "      <td>FB</td>\n",
       "      <td>0.040442</td>\n",
       "    </tr>\n",
       "    <tr>\n",
       "      <th>48</th>\n",
       "      <td>INTC</td>\n",
       "      <td>0.039921</td>\n",
       "    </tr>\n",
       "    <tr>\n",
       "      <th>15</th>\n",
       "      <td>ADP</td>\n",
       "      <td>0.034383</td>\n",
       "    </tr>\n",
       "    <tr>\n",
       "      <th>32</th>\n",
       "      <td>COST</td>\n",
       "      <td>0.034271</td>\n",
       "    </tr>\n",
       "    <tr>\n",
       "      <th>27</th>\n",
       "      <td>CSCO</td>\n",
       "      <td>0.029094</td>\n",
       "    </tr>\n",
       "    <tr>\n",
       "      <th>30</th>\n",
       "      <td>CMCSA</td>\n",
       "      <td>0.025142</td>\n",
       "    </tr>\n",
       "  </tbody>\n",
       "</table>\n",
       "</div>"
      ],
      "text/plain": [
       "    Stock   Weights\n",
       "11   AAPL  0.104427\n",
       "63   MSFT  0.101294\n",
       "7    AMZN  0.099969\n",
       "6    GOOG  0.086230\n",
       "41     FB  0.040442\n",
       "48   INTC  0.039921\n",
       "15    ADP  0.034383\n",
       "32   COST  0.034271\n",
       "27   CSCO  0.029094\n",
       "30  CMCSA  0.025142"
      ]
     },
     "execution_count": 221,
     "metadata": {},
     "output_type": "execute_result"
    }
   ],
   "source": [
    "resultmm1 = resultmm.sort_values(by='Weights', ascending=False)[:10].copy()\n",
    "resultmm1"
   ]
  },
  {
   "cell_type": "code",
   "execution_count": 222,
   "id": "f79a1764",
   "metadata": {},
   "outputs": [
    {
     "data": {
      "text/plain": [
       "<AxesSubplot:xlabel='Stock'>"
      ]
     },
     "execution_count": 222,
     "metadata": {},
     "output_type": "execute_result"
    },
    {
     "data": {
      "image/png": "[encoded data removed]",
      "text/plain": [
       "<Figure size 432x288 with 1 Axes>"
      ]
     },
     "metadata": {
      "needs_background": "light"
     },
     "output_type": "display_data"
    }
   ],
   "source": [
    "resultmm1.index = resultmm1['Stock']\n",
    "resultmm1.plot(kind = 'bar')"
   ]
  },
  {
   "cell_type": "markdown",
   "id": "4ea8553f",
   "metadata": {},
   "source": [
    "# Note: The result for 11 hours code running are written in the report. "
   ]
  },
  {
   "cell_type": "code",
   "execution_count": null,
   "id": "446738a3",
   "metadata": {},
   "outputs": [],
   "source": []
  }
 ],
 "metadata": {
  "kernelspec": {
   "display_name": "Python 3",
   "language": "python",
   "name": "python3"
  },
  "language_info": {
   "codemirror_mode": {
    "name": "ipython",
    "version": 3
   },
   "file_extension": ".py",
   "mimetype": "text/x-python",
   "name": "python",
   "nbconvert_exporter": "python",
   "pygments_lexer": "ipython3",
   "version": "3.9.5"
  }
 },
 "nbformat": 4,
 "nbformat_minor": 5
}
