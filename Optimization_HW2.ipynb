{
 "cells": [
  {
   "cell_type": "code",
   "execution_count": 1,
   "metadata": {},
   "outputs": [],
   "source": [
    "import numpy as np\n",
    "import gurobipy as gp\n",
    "import pandas as pd"
   ]
  },
  {
   "cell_type": "markdown",
   "metadata": {},
   "source": [
    "## Q1"
   ]
  },
  {
   "cell_type": "markdown",
   "metadata": {},
   "source": [
    "**Attached as a separate pdf with graphical approach**"
   ]
  },
  {
   "cell_type": "markdown",
   "metadata": {},
   "source": [
    "## Q2"
   ]
  },
  {
   "cell_type": "code",
   "execution_count": 2,
   "metadata": {},
   "outputs": [],
   "source": [
    "obj = np.array([2000,3000]) # objective vector\n",
    "A = np.zeros((3,2)) # initialize constraint matrix\n",
    "A[0,:] = [3,2] #  workers constraint\n",
    "A[1,:] = [2,4] #  fertilizer constraint\n",
    "A[2,:] = [1,1] #  area constraint\n",
    "b = np.array([1000,1200,450]) # limits on \n",
    "sense = np.array(['<','<','<']) # all constraints are less than or equal constraints"
   ]
  },
  {
   "cell_type": "code",
   "execution_count": 3,
   "metadata": {},
   "outputs": [
    {
     "name": "stdout",
     "output_type": "stream",
     "text": [
      "Academic license - for non-commercial use only - expires 2022-09-15\n",
      "Using license file C:\\Users\\ayush\\gurobi.lic\n",
      "Maximum Profit:  1000000.0\n",
      "Acres of wheat and corn:  [200. 200.]\n"
     ]
    }
   ],
   "source": [
    "plantModel = gp.Model()\n",
    "plantModX = plantModel.addMVar(2) \n",
    "plantModCon = plantModel.addMConstrs(A, plantModX, sense, b) \n",
    "plantModel.setMObjective(None,obj,0,sense=gp.GRB.MAXIMIZE) \n",
    "plantModel.Params.OutputFlag = 0 \n",
    "plantModel.optimize()\n",
    "\n",
    "print(\"Maximum Profit: \",plantModel.objVal)\n",
    "print(\"Acres of wheat and corn: \",plantModX.x)"
   ]
  },
  {
   "cell_type": "code",
   "execution_count": 4,
   "metadata": {},
   "outputs": [],
   "source": [
    "obj = np.array([2000,3000]) # objective vector\n",
    "\n",
    "results = pd.DataFrame(columns=['Wheat_Acre','Corn_Acre','Fertilizer_qty','Revenue'])\n",
    "\n",
    "revenue=[]\n",
    "w_acre=[]\n",
    "c_acre=[]\n",
    "fert=[]\n",
    "\n",
    "for i in np.arange(200,2300,100):\n",
    "    A = np.zeros((3,2)) # initialize constraint matrix\n",
    "    A[0,:] = [3,2] #  workers constraint\n",
    "    A[1,:] = [2,4] #  fertilizer constraint\n",
    "    A[2,:] = [1,1] #  area constraint\n",
    "    b = np.array([1000,i,450]) # limits on production, storage, and demand\n",
    "    sense = np.array(['<','<','<']) # all constraints are less than or equal constraints\n",
    "    plantModel = gp.Model()\n",
    "    plantModX = plantModel.addMVar(2) \n",
    "    plantModCon = plantModel.addMConstrs(A, plantModX, sense, b) \n",
    "    plantModel.setMObjective(None,obj,0,sense=gp.GRB.MAXIMIZE) \n",
    "    plantModel.Params.OutputFlag = 0 \n",
    "    plantModel.optimize()\n",
    "    revenue.append(plantModel.objVal)\n",
    "    w_acre.append(plantModX.x[0])\n",
    "    c_acre.append(plantModX.x[1])\n",
    "    fert.append(i)\n",
    "\n",
    "results['Wheat_Acre']=w_acre\n",
    "results['Corn_Acre']=c_acre\n",
    "results['Revenue']=revenue\n",
    "results['Fertilizer_qty']=fert\n",
    "\n",
    "fert_limit = results['Fertilizer_qty'].iloc[results['Wheat_Acre'].idxmin()]"
   ]
  },
  {
   "cell_type": "code",
   "execution_count": 5,
   "metadata": {},
   "outputs": [
    {
     "name": "stdout",
     "output_type": "stream",
     "text": [
      "Level of fertilizer where the farmer stops producing wheat:  1800\n"
     ]
    }
   ],
   "source": [
    "print(\"Level of fertilizer where the farmer stops producing wheat: \",fert_limit)"
   ]
  },
  {
   "cell_type": "markdown",
   "metadata": {},
   "source": [
    "## Q3"
   ]
  },
  {
   "cell_type": "code",
   "execution_count": 6,
   "metadata": {},
   "outputs": [],
   "source": [
    "obj = np.array([13,16,16,14,39]) # objective vector\n",
    "A = np.zeros((7,5)) # initialize constraint matrix\n",
    "A[0,:] = [11,53,5,5,29] # time 0 constraint\n",
    "A[1,:] = [3,6,5,1,34] # time 1 constraint\n",
    "A[2,:] = [1,0,0,0,0] # a constraint\n",
    "A[3,:] = [0,1,0,0,0] # b constraint\n",
    "A[4,:] = [0,0,1,0,0] # c constraint\n",
    "A[5,:] = [0,0,0,1,0] # d constraint\n",
    "A[6,:] = [0,0,0,0,1] # e constraint\n",
    "b = np.array([40,20,1,1,1,1,1]) # limits on constraints\n",
    "sense = np.array(['<','<','<','<','<','<','<']) "
   ]
  },
  {
   "cell_type": "code",
   "execution_count": 7,
   "metadata": {},
   "outputs": [],
   "source": [
    "invModel = gp.Model()\n",
    "invModX = invModel.addMVar(5) \n",
    "invModCon = invModel.addMConstrs(A, invModX, sense, b) \n",
    "invModel.setMObjective(None,obj,0,sense=gp.GRB.MAXIMIZE) \n",
    "invModel.Params.OutputFlag = 0 \n",
    "invModel.optimize()"
   ]
  },
  {
   "cell_type": "code",
   "execution_count": 8,
   "metadata": {},
   "outputs": [
    {
     "name": "stdout",
     "output_type": "stream",
     "text": [
      "Percentage of opportunity 3 should Star Oil invest in:  1.0\n"
     ]
    }
   ],
   "source": [
    "print(\"Percentage of opportunity 3 should Star Oil invest in: \",round(invModX.x[2],2))"
   ]
  },
  {
   "cell_type": "markdown",
   "metadata": {},
   "source": [
    "## Q4"
   ]
  },
  {
   "cell_type": "code",
   "execution_count": 9,
   "metadata": {},
   "outputs": [],
   "source": [
    "obj = np.array([0.18,0.23,0.05]) # objective vector\n",
    "A = np.zeros((7,3)) # initialize constraint matrix\n",
    "A[0,:] = [107,500,0] # vitamin A constraint\n",
    "A[1,:] = [107,500,0] # vitamin A constraint\n",
    "A[2,:] = [72,121,65] # calories constraint\n",
    "A[3,:] = [72,121,65] # calories constraint\n",
    "A[4,:] = [0,0,1] # bread constraint\n",
    "A[5,:] = [0,1,0] # milk constraint\n",
    "A[6,:] = [1,0,0] # corn constraint\n",
    "b = np.array([50000,5000,2250,2000,10,10,10]) # limits on vitamin a, calories, bread, corn, milk\n",
    "sense = np.array(['<','>','<','>','<','<','<']) "
   ]
  },
  {
   "cell_type": "code",
   "execution_count": 10,
   "metadata": {},
   "outputs": [],
   "source": [
    "foodModel = gp.Model()\n",
    "foodModX = foodModel.addMVar(3) \n",
    "foodModCon = foodModel.addMConstrs(A, foodModX, sense, b) \n",
    "foodModel.setMObjective(None,obj,0,sense=gp.GRB.MINIMIZE) \n",
    "foodModel.Params.OutputFlag = 0 \n",
    "foodModel.optimize()"
   ]
  },
  {
   "cell_type": "code",
   "execution_count": 11,
   "metadata": {},
   "outputs": [
    {
     "name": "stdout",
     "output_type": "stream",
     "text": [
      "Amount of servings of corn one should eat:  1.94\n"
     ]
    }
   ],
   "source": [
    "print(\"Amount of servings of corn one should eat: \",round(foodModX.x[0],2))"
   ]
  },
  {
   "cell_type": "markdown",
   "metadata": {},
   "source": [
    "## Q5"
   ]
  },
  {
   "cell_type": "code",
   "execution_count": 12,
   "metadata": {},
   "outputs": [
    {
     "name": "stdout",
     "output_type": "stream",
     "text": [
      "In year 3, acres of unit 2 to be cut down:  1.88\n"
     ]
    }
   ],
   "source": [
    "obj = np.array([1,1.3,1.4,1,1.2,1.6]) # objective vector\n",
    "A = np.zeros((8,6)) # initialize constraint matrix\n",
    "A[0,:] = [1,0,0,1,0,0] # year 1 maximum wood constraint\n",
    "A[1,:] = [1,0,0,1,0,0] # year 1 minimum wood constraint\n",
    "A[2,:] = [0,1.3,0,0,1.2,0] # year 2 maximum wood constraint\n",
    "A[3,:] = [0,1.3,0,0,1.2,0] # year 2 minimum wood constraint\n",
    "A[4,:] = [0,0,1.4,0,0,1.6] # year 3 maximum wood constraint\n",
    "A[5,:] = [0,0,1.4,0,0,1.6] # year 3 minimum wood constraint\n",
    "A[6,:] = [1,1,1,0,0,0] # forest unit 1 constraint\n",
    "A[7,:] = [0,0,0,1,1,1] # forest unit 2 constraint\n",
    "b = np.array([2,1.2,2,1.5,3,2,2,3]) # limits on constraints\n",
    "sense = np.array(['<','>','<','>','<','>','<','<'])\n",
    "\n",
    "\n",
    "farmmodel = gp.Model()\n",
    "fmModX = farmmodel.addMVar(6) \n",
    "fmModCon = farmmodel.addMConstrs(A, fmModX, sense, b) \n",
    "farmmodel.setMObjective(None,obj,0,sense=gp.GRB.MAXIMIZE) \n",
    "farmmodel.Params.OutputFlag = 0 \n",
    "farmmodel.optimize()\n",
    "\n",
    "\n",
    "\n",
    "\n",
    "print(\"In year 3, acres of unit 2 to be cut down: \",round(fmModX.x[5],2))"
   ]
  },
  {
   "cell_type": "code",
   "execution_count": null,
   "metadata": {},
   "outputs": [],
   "source": []
  }
 ],
 "metadata": {
  "kernelspec": {
   "display_name": "Python 3",
   "language": "python",
   "name": "python3"
  },
  "language_info": {
   "codemirror_mode": {
    "name": "ipython",
    "version": 3
   },
   "file_extension": ".py",
   "mimetype": "text/x-python",
   "name": "python",
   "nbconvert_exporter": "python",
   "pygments_lexer": "ipython3",
   "version": "3.8.8"
  }
 },
 "nbformat": 4,
 "nbformat_minor": 2
}
